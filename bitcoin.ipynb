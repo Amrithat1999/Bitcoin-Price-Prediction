{
 "cells": [
  {
   "cell_type": "code",
   "execution_count": 1,
   "id": "385ce335-65c7-4002-8ac6-a2d69dfaea92",
   "metadata": {},
   "outputs": [],
   "source": [
    "import pandas as pd\n",
    "import numpy as np\n",
    "data=pd.read_csv(r'C:\\Users\\amrit\\Downloads\\bitstampUSD_1-min_data_2012-01-01_to_2018-11-11.csv')"
   ]
  },
  {
   "cell_type": "code",
   "execution_count": 2,
   "id": "ae8b1fab-24a4-4889-99c0-7c9173f8478d",
   "metadata": {},
   "outputs": [],
   "source": [
    "data.dropna(inplace=True)"
   ]
  },
  {
   "cell_type": "code",
   "execution_count": 3,
   "id": "17ca79b5-6c13-45ff-8a25-571bbf282001",
   "metadata": {},
   "outputs": [],
   "source": [
    "pd.set_option('display.max_columns',None)"
   ]
  },
  {
   "cell_type": "code",
   "execution_count": 4,
   "id": "9085ea64-0e0e-4cad-8b5c-3b7cff595aaf",
   "metadata": {},
   "outputs": [
    {
     "data": {
      "text/html": [
       "<div>\n",
       "<style scoped>\n",
       "    .dataframe tbody tr th:only-of-type {\n",
       "        vertical-align: middle;\n",
       "    }\n",
       "\n",
       "    .dataframe tbody tr th {\n",
       "        vertical-align: top;\n",
       "    }\n",
       "\n",
       "    .dataframe thead th {\n",
       "        text-align: right;\n",
       "    }\n",
       "</style>\n",
       "<table border=\"1\" class=\"dataframe\">\n",
       "  <thead>\n",
       "    <tr style=\"text-align: right;\">\n",
       "      <th></th>\n",
       "      <th>Timestamp</th>\n",
       "      <th>Open</th>\n",
       "      <th>High</th>\n",
       "      <th>Low</th>\n",
       "      <th>Close</th>\n",
       "      <th>Volume_(BTC)</th>\n",
       "      <th>Volume_(Currency)</th>\n",
       "      <th>Weighted_Price</th>\n",
       "    </tr>\n",
       "  </thead>\n",
       "  <tbody>\n",
       "    <tr>\n",
       "      <th>0</th>\n",
       "      <td>1325317920</td>\n",
       "      <td>4.39</td>\n",
       "      <td>4.39</td>\n",
       "      <td>4.39</td>\n",
       "      <td>4.39</td>\n",
       "      <td>0.455581</td>\n",
       "      <td>2.000000</td>\n",
       "      <td>4.390000</td>\n",
       "    </tr>\n",
       "    <tr>\n",
       "      <th>478</th>\n",
       "      <td>1325346600</td>\n",
       "      <td>4.39</td>\n",
       "      <td>4.39</td>\n",
       "      <td>4.39</td>\n",
       "      <td>4.39</td>\n",
       "      <td>48.000000</td>\n",
       "      <td>210.720000</td>\n",
       "      <td>4.390000</td>\n",
       "    </tr>\n",
       "    <tr>\n",
       "      <th>547</th>\n",
       "      <td>1325350740</td>\n",
       "      <td>4.50</td>\n",
       "      <td>4.57</td>\n",
       "      <td>4.50</td>\n",
       "      <td>4.57</td>\n",
       "      <td>37.862297</td>\n",
       "      <td>171.380338</td>\n",
       "      <td>4.526411</td>\n",
       "    </tr>\n",
       "    <tr>\n",
       "      <th>548</th>\n",
       "      <td>1325350800</td>\n",
       "      <td>4.58</td>\n",
       "      <td>4.58</td>\n",
       "      <td>4.58</td>\n",
       "      <td>4.58</td>\n",
       "      <td>9.000000</td>\n",
       "      <td>41.220000</td>\n",
       "      <td>4.580000</td>\n",
       "    </tr>\n",
       "    <tr>\n",
       "      <th>1224</th>\n",
       "      <td>1325391360</td>\n",
       "      <td>4.58</td>\n",
       "      <td>4.58</td>\n",
       "      <td>4.58</td>\n",
       "      <td>4.58</td>\n",
       "      <td>1.502000</td>\n",
       "      <td>6.879160</td>\n",
       "      <td>4.580000</td>\n",
       "    </tr>\n",
       "    <tr>\n",
       "      <th>...</th>\n",
       "      <td>...</td>\n",
       "      <td>...</td>\n",
       "      <td>...</td>\n",
       "      <td>...</td>\n",
       "      <td>...</td>\n",
       "      <td>...</td>\n",
       "      <td>...</td>\n",
       "      <td>...</td>\n",
       "    </tr>\n",
       "    <tr>\n",
       "      <th>3603130</th>\n",
       "      <td>1541894040</td>\n",
       "      <td>6348.54</td>\n",
       "      <td>6348.54</td>\n",
       "      <td>6348.54</td>\n",
       "      <td>6348.54</td>\n",
       "      <td>0.007997</td>\n",
       "      <td>50.769274</td>\n",
       "      <td>6348.540000</td>\n",
       "    </tr>\n",
       "    <tr>\n",
       "      <th>3603131</th>\n",
       "      <td>1541894100</td>\n",
       "      <td>6348.54</td>\n",
       "      <td>6348.54</td>\n",
       "      <td>6348.54</td>\n",
       "      <td>6348.54</td>\n",
       "      <td>0.007997</td>\n",
       "      <td>50.769274</td>\n",
       "      <td>6348.540000</td>\n",
       "    </tr>\n",
       "    <tr>\n",
       "      <th>3603132</th>\n",
       "      <td>1541894160</td>\n",
       "      <td>6348.54</td>\n",
       "      <td>6349.01</td>\n",
       "      <td>6348.54</td>\n",
       "      <td>6349.01</td>\n",
       "      <td>0.011729</td>\n",
       "      <td>74.466671</td>\n",
       "      <td>6348.936090</td>\n",
       "    </tr>\n",
       "    <tr>\n",
       "      <th>3603133</th>\n",
       "      <td>1541894220</td>\n",
       "      <td>6349.01</td>\n",
       "      <td>6349.01</td>\n",
       "      <td>6349.01</td>\n",
       "      <td>6349.01</td>\n",
       "      <td>0.068436</td>\n",
       "      <td>434.503642</td>\n",
       "      <td>6349.010000</td>\n",
       "    </tr>\n",
       "    <tr>\n",
       "      <th>3603135</th>\n",
       "      <td>1541894340</td>\n",
       "      <td>6349.17</td>\n",
       "      <td>6349.32</td>\n",
       "      <td>6349.17</td>\n",
       "      <td>6349.32</td>\n",
       "      <td>0.038261</td>\n",
       "      <td>242.927410</td>\n",
       "      <td>6349.214148</td>\n",
       "    </tr>\n",
       "  </tbody>\n",
       "</table>\n",
       "<p>2388829 rows × 8 columns</p>\n",
       "</div>"
      ],
      "text/plain": [
       "          Timestamp     Open     High      Low    Close  Volume_(BTC)  \\\n",
       "0        1325317920     4.39     4.39     4.39     4.39      0.455581   \n",
       "478      1325346600     4.39     4.39     4.39     4.39     48.000000   \n",
       "547      1325350740     4.50     4.57     4.50     4.57     37.862297   \n",
       "548      1325350800     4.58     4.58     4.58     4.58      9.000000   \n",
       "1224     1325391360     4.58     4.58     4.58     4.58      1.502000   \n",
       "...             ...      ...      ...      ...      ...           ...   \n",
       "3603130  1541894040  6348.54  6348.54  6348.54  6348.54      0.007997   \n",
       "3603131  1541894100  6348.54  6348.54  6348.54  6348.54      0.007997   \n",
       "3603132  1541894160  6348.54  6349.01  6348.54  6349.01      0.011729   \n",
       "3603133  1541894220  6349.01  6349.01  6349.01  6349.01      0.068436   \n",
       "3603135  1541894340  6349.17  6349.32  6349.17  6349.32      0.038261   \n",
       "\n",
       "         Volume_(Currency)  Weighted_Price  \n",
       "0                 2.000000        4.390000  \n",
       "478             210.720000        4.390000  \n",
       "547             171.380338        4.526411  \n",
       "548              41.220000        4.580000  \n",
       "1224              6.879160        4.580000  \n",
       "...                    ...             ...  \n",
       "3603130          50.769274     6348.540000  \n",
       "3603131          50.769274     6348.540000  \n",
       "3603132          74.466671     6348.936090  \n",
       "3603133         434.503642     6349.010000  \n",
       "3603135         242.927410     6349.214148  \n",
       "\n",
       "[2388829 rows x 8 columns]"
      ]
     },
     "execution_count": 4,
     "metadata": {},
     "output_type": "execute_result"
    }
   ],
   "source": [
    "data"
   ]
  },
  {
   "cell_type": "code",
   "execution_count": 5,
   "id": "33a9e2e3-8db8-4f59-bbe5-53bc2f61d7eb",
   "metadata": {},
   "outputs": [
    {
     "data": {
      "text/plain": [
       "(2388829, 8)"
      ]
     },
     "execution_count": 5,
     "metadata": {},
     "output_type": "execute_result"
    }
   ],
   "source": [
    "data.shape"
   ]
  },
  {
   "cell_type": "code",
   "execution_count": 6,
   "id": "9984e075-3f9a-48fc-a8e9-6b5c47697427",
   "metadata": {},
   "outputs": [
    {
     "data": {
      "text/html": [
       "<div>\n",
       "<style scoped>\n",
       "    .dataframe tbody tr th:only-of-type {\n",
       "        vertical-align: middle;\n",
       "    }\n",
       "\n",
       "    .dataframe tbody tr th {\n",
       "        vertical-align: top;\n",
       "    }\n",
       "\n",
       "    .dataframe thead th {\n",
       "        text-align: right;\n",
       "    }\n",
       "</style>\n",
       "<table border=\"1\" class=\"dataframe\">\n",
       "  <thead>\n",
       "    <tr style=\"text-align: right;\">\n",
       "      <th></th>\n",
       "      <th>Timestamp</th>\n",
       "      <th>Open</th>\n",
       "      <th>High</th>\n",
       "      <th>Low</th>\n",
       "      <th>Close</th>\n",
       "      <th>Volume_(BTC)</th>\n",
       "      <th>Volume_(Currency)</th>\n",
       "      <th>Weighted_Price</th>\n",
       "    </tr>\n",
       "  </thead>\n",
       "  <tbody>\n",
       "    <tr>\n",
       "      <th>0</th>\n",
       "      <td>1325317920</td>\n",
       "      <td>4.39</td>\n",
       "      <td>4.39</td>\n",
       "      <td>4.39</td>\n",
       "      <td>4.39</td>\n",
       "      <td>0.455581</td>\n",
       "      <td>2.000000</td>\n",
       "      <td>4.390000</td>\n",
       "    </tr>\n",
       "    <tr>\n",
       "      <th>478</th>\n",
       "      <td>1325346600</td>\n",
       "      <td>4.39</td>\n",
       "      <td>4.39</td>\n",
       "      <td>4.39</td>\n",
       "      <td>4.39</td>\n",
       "      <td>48.000000</td>\n",
       "      <td>210.720000</td>\n",
       "      <td>4.390000</td>\n",
       "    </tr>\n",
       "    <tr>\n",
       "      <th>547</th>\n",
       "      <td>1325350740</td>\n",
       "      <td>4.50</td>\n",
       "      <td>4.57</td>\n",
       "      <td>4.50</td>\n",
       "      <td>4.57</td>\n",
       "      <td>37.862297</td>\n",
       "      <td>171.380338</td>\n",
       "      <td>4.526411</td>\n",
       "    </tr>\n",
       "    <tr>\n",
       "      <th>548</th>\n",
       "      <td>1325350800</td>\n",
       "      <td>4.58</td>\n",
       "      <td>4.58</td>\n",
       "      <td>4.58</td>\n",
       "      <td>4.58</td>\n",
       "      <td>9.000000</td>\n",
       "      <td>41.220000</td>\n",
       "      <td>4.580000</td>\n",
       "    </tr>\n",
       "    <tr>\n",
       "      <th>1224</th>\n",
       "      <td>1325391360</td>\n",
       "      <td>4.58</td>\n",
       "      <td>4.58</td>\n",
       "      <td>4.58</td>\n",
       "      <td>4.58</td>\n",
       "      <td>1.502000</td>\n",
       "      <td>6.879160</td>\n",
       "      <td>4.580000</td>\n",
       "    </tr>\n",
       "  </tbody>\n",
       "</table>\n",
       "</div>"
      ],
      "text/plain": [
       "       Timestamp  Open  High   Low  Close  Volume_(BTC)  Volume_(Currency)  \\\n",
       "0     1325317920  4.39  4.39  4.39   4.39      0.455581           2.000000   \n",
       "478   1325346600  4.39  4.39  4.39   4.39     48.000000         210.720000   \n",
       "547   1325350740  4.50  4.57  4.50   4.57     37.862297         171.380338   \n",
       "548   1325350800  4.58  4.58  4.58   4.58      9.000000          41.220000   \n",
       "1224  1325391360  4.58  4.58  4.58   4.58      1.502000           6.879160   \n",
       "\n",
       "      Weighted_Price  \n",
       "0           4.390000  \n",
       "478         4.390000  \n",
       "547         4.526411  \n",
       "548         4.580000  \n",
       "1224        4.580000  "
      ]
     },
     "execution_count": 6,
     "metadata": {},
     "output_type": "execute_result"
    }
   ],
   "source": [
    "data.head()"
   ]
  },
  {
   "cell_type": "code",
   "execution_count": 7,
   "id": "3853ba12-a4b5-4e40-b546-df89fcfcd517",
   "metadata": {},
   "outputs": [
    {
     "name": "stdout",
     "output_type": "stream",
     "text": [
      "<class 'pandas.core.frame.DataFrame'>\n",
      "Int64Index: 2388829 entries, 0 to 3603135\n",
      "Data columns (total 8 columns):\n",
      " #   Column             Dtype  \n",
      "---  ------             -----  \n",
      " 0   Timestamp          int64  \n",
      " 1   Open               float64\n",
      " 2   High               float64\n",
      " 3   Low                float64\n",
      " 4   Close              float64\n",
      " 5   Volume_(BTC)       float64\n",
      " 6   Volume_(Currency)  float64\n",
      " 7   Weighted_Price     float64\n",
      "dtypes: float64(7), int64(1)\n",
      "memory usage: 164.0 MB\n"
     ]
    }
   ],
   "source": [
    "data.info()"
   ]
  },
  {
   "cell_type": "code",
   "execution_count": 8,
   "id": "2c5e833e-e53b-4293-95b1-b31e5f0d81b5",
   "metadata": {},
   "outputs": [],
   "source": [
    "data['Timestamp'] = pd.to_datetime(data['Timestamp'], unit='s')\n",
    "data['Timestamp'] = pd.to_datetime(data['Timestamp']).dt.to_period('m')\n",
    "data.set_index(data['Timestamp'], inplace=True)\n",
    "data.drop(['Timestamp'],axis=1,inplace=True)\n",
    "data=data.to_timestamp()"
   ]
  },
  {
   "cell_type": "code",
   "execution_count": 9,
   "id": "e35e67ed-0675-4d86-8e11-313a795413d1",
   "metadata": {},
   "outputs": [
    {
     "data": {
      "text/html": [
       "<div>\n",
       "<style scoped>\n",
       "    .dataframe tbody tr th:only-of-type {\n",
       "        vertical-align: middle;\n",
       "    }\n",
       "\n",
       "    .dataframe tbody tr th {\n",
       "        vertical-align: top;\n",
       "    }\n",
       "\n",
       "    .dataframe thead th {\n",
       "        text-align: right;\n",
       "    }\n",
       "</style>\n",
       "<table border=\"1\" class=\"dataframe\">\n",
       "  <thead>\n",
       "    <tr style=\"text-align: right;\">\n",
       "      <th></th>\n",
       "      <th>Open</th>\n",
       "      <th>High</th>\n",
       "      <th>Low</th>\n",
       "      <th>Close</th>\n",
       "      <th>Volume_(BTC)</th>\n",
       "      <th>Volume_(Currency)</th>\n",
       "      <th>Weighted_Price</th>\n",
       "    </tr>\n",
       "    <tr>\n",
       "      <th>Timestamp</th>\n",
       "      <th></th>\n",
       "      <th></th>\n",
       "      <th></th>\n",
       "      <th></th>\n",
       "      <th></th>\n",
       "      <th></th>\n",
       "      <th></th>\n",
       "    </tr>\n",
       "  </thead>\n",
       "  <tbody>\n",
       "    <tr>\n",
       "      <th>2011-12-01</th>\n",
       "      <td>4.39</td>\n",
       "      <td>4.39</td>\n",
       "      <td>4.39</td>\n",
       "      <td>4.39</td>\n",
       "      <td>0.455581</td>\n",
       "      <td>2.000000</td>\n",
       "      <td>4.390000</td>\n",
       "    </tr>\n",
       "    <tr>\n",
       "      <th>2011-12-01</th>\n",
       "      <td>4.39</td>\n",
       "      <td>4.39</td>\n",
       "      <td>4.39</td>\n",
       "      <td>4.39</td>\n",
       "      <td>48.000000</td>\n",
       "      <td>210.720000</td>\n",
       "      <td>4.390000</td>\n",
       "    </tr>\n",
       "    <tr>\n",
       "      <th>2011-12-01</th>\n",
       "      <td>4.50</td>\n",
       "      <td>4.57</td>\n",
       "      <td>4.50</td>\n",
       "      <td>4.57</td>\n",
       "      <td>37.862297</td>\n",
       "      <td>171.380338</td>\n",
       "      <td>4.526411</td>\n",
       "    </tr>\n",
       "    <tr>\n",
       "      <th>2011-12-01</th>\n",
       "      <td>4.58</td>\n",
       "      <td>4.58</td>\n",
       "      <td>4.58</td>\n",
       "      <td>4.58</td>\n",
       "      <td>9.000000</td>\n",
       "      <td>41.220000</td>\n",
       "      <td>4.580000</td>\n",
       "    </tr>\n",
       "    <tr>\n",
       "      <th>2012-01-01</th>\n",
       "      <td>4.58</td>\n",
       "      <td>4.58</td>\n",
       "      <td>4.58</td>\n",
       "      <td>4.58</td>\n",
       "      <td>1.502000</td>\n",
       "      <td>6.879160</td>\n",
       "      <td>4.580000</td>\n",
       "    </tr>\n",
       "    <tr>\n",
       "      <th>...</th>\n",
       "      <td>...</td>\n",
       "      <td>...</td>\n",
       "      <td>...</td>\n",
       "      <td>...</td>\n",
       "      <td>...</td>\n",
       "      <td>...</td>\n",
       "      <td>...</td>\n",
       "    </tr>\n",
       "    <tr>\n",
       "      <th>2018-11-01</th>\n",
       "      <td>6348.54</td>\n",
       "      <td>6348.54</td>\n",
       "      <td>6348.54</td>\n",
       "      <td>6348.54</td>\n",
       "      <td>0.007997</td>\n",
       "      <td>50.769274</td>\n",
       "      <td>6348.540000</td>\n",
       "    </tr>\n",
       "    <tr>\n",
       "      <th>2018-11-01</th>\n",
       "      <td>6348.54</td>\n",
       "      <td>6348.54</td>\n",
       "      <td>6348.54</td>\n",
       "      <td>6348.54</td>\n",
       "      <td>0.007997</td>\n",
       "      <td>50.769274</td>\n",
       "      <td>6348.540000</td>\n",
       "    </tr>\n",
       "    <tr>\n",
       "      <th>2018-11-01</th>\n",
       "      <td>6348.54</td>\n",
       "      <td>6349.01</td>\n",
       "      <td>6348.54</td>\n",
       "      <td>6349.01</td>\n",
       "      <td>0.011729</td>\n",
       "      <td>74.466671</td>\n",
       "      <td>6348.936090</td>\n",
       "    </tr>\n",
       "    <tr>\n",
       "      <th>2018-11-01</th>\n",
       "      <td>6349.01</td>\n",
       "      <td>6349.01</td>\n",
       "      <td>6349.01</td>\n",
       "      <td>6349.01</td>\n",
       "      <td>0.068436</td>\n",
       "      <td>434.503642</td>\n",
       "      <td>6349.010000</td>\n",
       "    </tr>\n",
       "    <tr>\n",
       "      <th>2018-11-01</th>\n",
       "      <td>6349.17</td>\n",
       "      <td>6349.32</td>\n",
       "      <td>6349.17</td>\n",
       "      <td>6349.32</td>\n",
       "      <td>0.038261</td>\n",
       "      <td>242.927410</td>\n",
       "      <td>6349.214148</td>\n",
       "    </tr>\n",
       "  </tbody>\n",
       "</table>\n",
       "<p>2388829 rows × 7 columns</p>\n",
       "</div>"
      ],
      "text/plain": [
       "               Open     High      Low    Close  Volume_(BTC)  \\\n",
       "Timestamp                                                      \n",
       "2011-12-01     4.39     4.39     4.39     4.39      0.455581   \n",
       "2011-12-01     4.39     4.39     4.39     4.39     48.000000   \n",
       "2011-12-01     4.50     4.57     4.50     4.57     37.862297   \n",
       "2011-12-01     4.58     4.58     4.58     4.58      9.000000   \n",
       "2012-01-01     4.58     4.58     4.58     4.58      1.502000   \n",
       "...             ...      ...      ...      ...           ...   \n",
       "2018-11-01  6348.54  6348.54  6348.54  6348.54      0.007997   \n",
       "2018-11-01  6348.54  6348.54  6348.54  6348.54      0.007997   \n",
       "2018-11-01  6348.54  6349.01  6348.54  6349.01      0.011729   \n",
       "2018-11-01  6349.01  6349.01  6349.01  6349.01      0.068436   \n",
       "2018-11-01  6349.17  6349.32  6349.17  6349.32      0.038261   \n",
       "\n",
       "            Volume_(Currency)  Weighted_Price  \n",
       "Timestamp                                      \n",
       "2011-12-01           2.000000        4.390000  \n",
       "2011-12-01         210.720000        4.390000  \n",
       "2011-12-01         171.380338        4.526411  \n",
       "2011-12-01          41.220000        4.580000  \n",
       "2012-01-01           6.879160        4.580000  \n",
       "...                       ...             ...  \n",
       "2018-11-01          50.769274     6348.540000  \n",
       "2018-11-01          50.769274     6348.540000  \n",
       "2018-11-01          74.466671     6348.936090  \n",
       "2018-11-01         434.503642     6349.010000  \n",
       "2018-11-01         242.927410     6349.214148  \n",
       "\n",
       "[2388829 rows x 7 columns]"
      ]
     },
     "execution_count": 9,
     "metadata": {},
     "output_type": "execute_result"
    }
   ],
   "source": [
    "data"
   ]
  },
  {
   "cell_type": "code",
   "execution_count": 10,
   "id": "d0a94a7b-baea-45b7-ad42-6dc980413640",
   "metadata": {},
   "outputs": [],
   "source": [
    "data=data.reset_index()\n"
   ]
  },
  {
   "cell_type": "code",
   "execution_count": 11,
   "id": "1859e689-2c86-4178-abdb-68cb123ead39",
   "metadata": {},
   "outputs": [
    {
     "data": {
      "text/html": [
       "<div>\n",
       "<style scoped>\n",
       "    .dataframe tbody tr th:only-of-type {\n",
       "        vertical-align: middle;\n",
       "    }\n",
       "\n",
       "    .dataframe tbody tr th {\n",
       "        vertical-align: top;\n",
       "    }\n",
       "\n",
       "    .dataframe thead th {\n",
       "        text-align: right;\n",
       "    }\n",
       "</style>\n",
       "<table border=\"1\" class=\"dataframe\">\n",
       "  <thead>\n",
       "    <tr style=\"text-align: right;\">\n",
       "      <th></th>\n",
       "      <th>Timestamp</th>\n",
       "      <th>Open</th>\n",
       "      <th>High</th>\n",
       "      <th>Low</th>\n",
       "      <th>Close</th>\n",
       "      <th>Volume_(BTC)</th>\n",
       "      <th>Volume_(Currency)</th>\n",
       "      <th>Weighted_Price</th>\n",
       "    </tr>\n",
       "  </thead>\n",
       "  <tbody>\n",
       "    <tr>\n",
       "      <th>0</th>\n",
       "      <td>2011-12-01</td>\n",
       "      <td>4.39</td>\n",
       "      <td>4.39</td>\n",
       "      <td>4.39</td>\n",
       "      <td>4.39</td>\n",
       "      <td>0.455581</td>\n",
       "      <td>2.000000</td>\n",
       "      <td>4.390000</td>\n",
       "    </tr>\n",
       "    <tr>\n",
       "      <th>1</th>\n",
       "      <td>2011-12-01</td>\n",
       "      <td>4.39</td>\n",
       "      <td>4.39</td>\n",
       "      <td>4.39</td>\n",
       "      <td>4.39</td>\n",
       "      <td>48.000000</td>\n",
       "      <td>210.720000</td>\n",
       "      <td>4.390000</td>\n",
       "    </tr>\n",
       "    <tr>\n",
       "      <th>2</th>\n",
       "      <td>2011-12-01</td>\n",
       "      <td>4.50</td>\n",
       "      <td>4.57</td>\n",
       "      <td>4.50</td>\n",
       "      <td>4.57</td>\n",
       "      <td>37.862297</td>\n",
       "      <td>171.380338</td>\n",
       "      <td>4.526411</td>\n",
       "    </tr>\n",
       "    <tr>\n",
       "      <th>3</th>\n",
       "      <td>2011-12-01</td>\n",
       "      <td>4.58</td>\n",
       "      <td>4.58</td>\n",
       "      <td>4.58</td>\n",
       "      <td>4.58</td>\n",
       "      <td>9.000000</td>\n",
       "      <td>41.220000</td>\n",
       "      <td>4.580000</td>\n",
       "    </tr>\n",
       "    <tr>\n",
       "      <th>4</th>\n",
       "      <td>2012-01-01</td>\n",
       "      <td>4.58</td>\n",
       "      <td>4.58</td>\n",
       "      <td>4.58</td>\n",
       "      <td>4.58</td>\n",
       "      <td>1.502000</td>\n",
       "      <td>6.879160</td>\n",
       "      <td>4.580000</td>\n",
       "    </tr>\n",
       "    <tr>\n",
       "      <th>...</th>\n",
       "      <td>...</td>\n",
       "      <td>...</td>\n",
       "      <td>...</td>\n",
       "      <td>...</td>\n",
       "      <td>...</td>\n",
       "      <td>...</td>\n",
       "      <td>...</td>\n",
       "      <td>...</td>\n",
       "    </tr>\n",
       "    <tr>\n",
       "      <th>2388824</th>\n",
       "      <td>2018-11-01</td>\n",
       "      <td>6348.54</td>\n",
       "      <td>6348.54</td>\n",
       "      <td>6348.54</td>\n",
       "      <td>6348.54</td>\n",
       "      <td>0.007997</td>\n",
       "      <td>50.769274</td>\n",
       "      <td>6348.540000</td>\n",
       "    </tr>\n",
       "    <tr>\n",
       "      <th>2388825</th>\n",
       "      <td>2018-11-01</td>\n",
       "      <td>6348.54</td>\n",
       "      <td>6348.54</td>\n",
       "      <td>6348.54</td>\n",
       "      <td>6348.54</td>\n",
       "      <td>0.007997</td>\n",
       "      <td>50.769274</td>\n",
       "      <td>6348.540000</td>\n",
       "    </tr>\n",
       "    <tr>\n",
       "      <th>2388826</th>\n",
       "      <td>2018-11-01</td>\n",
       "      <td>6348.54</td>\n",
       "      <td>6349.01</td>\n",
       "      <td>6348.54</td>\n",
       "      <td>6349.01</td>\n",
       "      <td>0.011729</td>\n",
       "      <td>74.466671</td>\n",
       "      <td>6348.936090</td>\n",
       "    </tr>\n",
       "    <tr>\n",
       "      <th>2388827</th>\n",
       "      <td>2018-11-01</td>\n",
       "      <td>6349.01</td>\n",
       "      <td>6349.01</td>\n",
       "      <td>6349.01</td>\n",
       "      <td>6349.01</td>\n",
       "      <td>0.068436</td>\n",
       "      <td>434.503642</td>\n",
       "      <td>6349.010000</td>\n",
       "    </tr>\n",
       "    <tr>\n",
       "      <th>2388828</th>\n",
       "      <td>2018-11-01</td>\n",
       "      <td>6349.17</td>\n",
       "      <td>6349.32</td>\n",
       "      <td>6349.17</td>\n",
       "      <td>6349.32</td>\n",
       "      <td>0.038261</td>\n",
       "      <td>242.927410</td>\n",
       "      <td>6349.214148</td>\n",
       "    </tr>\n",
       "  </tbody>\n",
       "</table>\n",
       "<p>2388829 rows × 8 columns</p>\n",
       "</div>"
      ],
      "text/plain": [
       "         Timestamp     Open     High      Low    Close  Volume_(BTC)  \\\n",
       "0       2011-12-01     4.39     4.39     4.39     4.39      0.455581   \n",
       "1       2011-12-01     4.39     4.39     4.39     4.39     48.000000   \n",
       "2       2011-12-01     4.50     4.57     4.50     4.57     37.862297   \n",
       "3       2011-12-01     4.58     4.58     4.58     4.58      9.000000   \n",
       "4       2012-01-01     4.58     4.58     4.58     4.58      1.502000   \n",
       "...            ...      ...      ...      ...      ...           ...   \n",
       "2388824 2018-11-01  6348.54  6348.54  6348.54  6348.54      0.007997   \n",
       "2388825 2018-11-01  6348.54  6348.54  6348.54  6348.54      0.007997   \n",
       "2388826 2018-11-01  6348.54  6349.01  6348.54  6349.01      0.011729   \n",
       "2388827 2018-11-01  6349.01  6349.01  6349.01  6349.01      0.068436   \n",
       "2388828 2018-11-01  6349.17  6349.32  6349.17  6349.32      0.038261   \n",
       "\n",
       "         Volume_(Currency)  Weighted_Price  \n",
       "0                 2.000000        4.390000  \n",
       "1               210.720000        4.390000  \n",
       "2               171.380338        4.526411  \n",
       "3                41.220000        4.580000  \n",
       "4                 6.879160        4.580000  \n",
       "...                    ...             ...  \n",
       "2388824          50.769274     6348.540000  \n",
       "2388825          50.769274     6348.540000  \n",
       "2388826          74.466671     6348.936090  \n",
       "2388827         434.503642     6349.010000  \n",
       "2388828         242.927410     6349.214148  \n",
       "\n",
       "[2388829 rows x 8 columns]"
      ]
     },
     "execution_count": 11,
     "metadata": {},
     "output_type": "execute_result"
    }
   ],
   "source": [
    "data"
   ]
  },
  {
   "cell_type": "code",
   "execution_count": 12,
   "id": "24263710-e69b-48ce-859e-7f7936d7b4f2",
   "metadata": {},
   "outputs": [],
   "source": [
    "data['day']=pd.to_datetime(data['Timestamp'],format='%d-%m-%Y').dt.day\n",
    "data['month']=pd.to_datetime(data['Timestamp'],format='%d-%m-%Y').dt.month\n",
    "data['year']=pd.to_datetime(data['Timestamp'],format='%d-%m-%Y').dt.year\n"
   ]
  },
  {
   "cell_type": "code",
   "execution_count": 13,
   "id": "f2eb6d18-6e66-45bb-8326-185ff3208c2d",
   "metadata": {},
   "outputs": [],
   "source": [
    "data.drop(['Timestamp'],axis=1,inplace=True)"
   ]
  },
  {
   "cell_type": "code",
   "execution_count": 14,
   "id": "1986c630-4172-44d1-90dd-2d1eed73e58d",
   "metadata": {},
   "outputs": [
    {
     "data": {
      "text/html": [
       "<div>\n",
       "<style scoped>\n",
       "    .dataframe tbody tr th:only-of-type {\n",
       "        vertical-align: middle;\n",
       "    }\n",
       "\n",
       "    .dataframe tbody tr th {\n",
       "        vertical-align: top;\n",
       "    }\n",
       "\n",
       "    .dataframe thead th {\n",
       "        text-align: right;\n",
       "    }\n",
       "</style>\n",
       "<table border=\"1\" class=\"dataframe\">\n",
       "  <thead>\n",
       "    <tr style=\"text-align: right;\">\n",
       "      <th></th>\n",
       "      <th>Open</th>\n",
       "      <th>High</th>\n",
       "      <th>Low</th>\n",
       "      <th>Close</th>\n",
       "      <th>Volume_(BTC)</th>\n",
       "      <th>Volume_(Currency)</th>\n",
       "      <th>Weighted_Price</th>\n",
       "      <th>day</th>\n",
       "      <th>month</th>\n",
       "      <th>year</th>\n",
       "    </tr>\n",
       "  </thead>\n",
       "  <tbody>\n",
       "    <tr>\n",
       "      <th>0</th>\n",
       "      <td>4.39</td>\n",
       "      <td>4.39</td>\n",
       "      <td>4.39</td>\n",
       "      <td>4.39</td>\n",
       "      <td>0.455581</td>\n",
       "      <td>2.000000</td>\n",
       "      <td>4.390000</td>\n",
       "      <td>1</td>\n",
       "      <td>12</td>\n",
       "      <td>2011</td>\n",
       "    </tr>\n",
       "    <tr>\n",
       "      <th>1</th>\n",
       "      <td>4.39</td>\n",
       "      <td>4.39</td>\n",
       "      <td>4.39</td>\n",
       "      <td>4.39</td>\n",
       "      <td>48.000000</td>\n",
       "      <td>210.720000</td>\n",
       "      <td>4.390000</td>\n",
       "      <td>1</td>\n",
       "      <td>12</td>\n",
       "      <td>2011</td>\n",
       "    </tr>\n",
       "    <tr>\n",
       "      <th>2</th>\n",
       "      <td>4.50</td>\n",
       "      <td>4.57</td>\n",
       "      <td>4.50</td>\n",
       "      <td>4.57</td>\n",
       "      <td>37.862297</td>\n",
       "      <td>171.380338</td>\n",
       "      <td>4.526411</td>\n",
       "      <td>1</td>\n",
       "      <td>12</td>\n",
       "      <td>2011</td>\n",
       "    </tr>\n",
       "    <tr>\n",
       "      <th>3</th>\n",
       "      <td>4.58</td>\n",
       "      <td>4.58</td>\n",
       "      <td>4.58</td>\n",
       "      <td>4.58</td>\n",
       "      <td>9.000000</td>\n",
       "      <td>41.220000</td>\n",
       "      <td>4.580000</td>\n",
       "      <td>1</td>\n",
       "      <td>12</td>\n",
       "      <td>2011</td>\n",
       "    </tr>\n",
       "    <tr>\n",
       "      <th>4</th>\n",
       "      <td>4.58</td>\n",
       "      <td>4.58</td>\n",
       "      <td>4.58</td>\n",
       "      <td>4.58</td>\n",
       "      <td>1.502000</td>\n",
       "      <td>6.879160</td>\n",
       "      <td>4.580000</td>\n",
       "      <td>1</td>\n",
       "      <td>1</td>\n",
       "      <td>2012</td>\n",
       "    </tr>\n",
       "  </tbody>\n",
       "</table>\n",
       "</div>"
      ],
      "text/plain": [
       "   Open  High   Low  Close  Volume_(BTC)  Volume_(Currency)  Weighted_Price  \\\n",
       "0  4.39  4.39  4.39   4.39      0.455581           2.000000        4.390000   \n",
       "1  4.39  4.39  4.39   4.39     48.000000         210.720000        4.390000   \n",
       "2  4.50  4.57  4.50   4.57     37.862297         171.380338        4.526411   \n",
       "3  4.58  4.58  4.58   4.58      9.000000          41.220000        4.580000   \n",
       "4  4.58  4.58  4.58   4.58      1.502000           6.879160        4.580000   \n",
       "\n",
       "   day  month  year  \n",
       "0    1     12  2011  \n",
       "1    1     12  2011  \n",
       "2    1     12  2011  \n",
       "3    1     12  2011  \n",
       "4    1      1  2012  "
      ]
     },
     "execution_count": 14,
     "metadata": {},
     "output_type": "execute_result"
    }
   ],
   "source": [
    "data.head()"
   ]
  },
  {
   "cell_type": "code",
   "execution_count": 15,
   "id": "a46e0982-d577-4a93-8a3e-8e19c6af3098",
   "metadata": {},
   "outputs": [],
   "source": [
    "x=data.drop(['Weighted_Price'],axis=1)\n",
    "y=data.Weighted_Price"
   ]
  },
  {
   "cell_type": "code",
   "execution_count": 16,
   "id": "6719e6e2-0a59-414d-bbb9-2f8cfd22a9ed",
   "metadata": {},
   "outputs": [],
   "source": [
    "from sklearn.model_selection import train_test_split\n",
    "from sklearn.linear_model import LinearRegression\n",
    "from sklearn.ensemble import RandomForestRegressor\n",
    "from sklearn.tree import DecisionTreeRegressor"
   ]
  },
  {
   "cell_type": "code",
   "execution_count": 17,
   "id": "3f76e828-3759-4c9d-bdae-c07eda458adb",
   "metadata": {},
   "outputs": [],
   "source": [
    "xtrain,xtest,ytrain,ytest=train_test_split(x,y,random_state=0,test_size=0.2)"
   ]
  },
  {
   "cell_type": "code",
   "execution_count": 18,
   "id": "00f41444-6e04-4043-8982-c81d790bec88",
   "metadata": {},
   "outputs": [
    {
     "name": "stdout",
     "output_type": "stream",
     "text": [
      "1911063\n",
      "477766\n",
      "1911063\n",
      "477766\n"
     ]
    }
   ],
   "source": [
    "print(len(xtrain))\n",
    "print(len(xtest))\n",
    "print(len(ytrain))\n",
    "print(len(ytest))"
   ]
  },
  {
   "cell_type": "code",
   "execution_count": 19,
   "id": "c12856d1-0a07-453c-b68d-7ff474d4c19f",
   "metadata": {},
   "outputs": [],
   "source": [
    "model=LinearRegression()"
   ]
  },
  {
   "cell_type": "code",
   "execution_count": 20,
   "id": "a523b4f1-e554-47e7-9cbd-6c9b723382b5",
   "metadata": {},
   "outputs": [
    {
     "data": {
      "text/plain": [
       "LinearRegression()"
      ]
     },
     "execution_count": 20,
     "metadata": {},
     "output_type": "execute_result"
    }
   ],
   "source": [
    "model.fit(xtrain,ytrain)"
   ]
  },
  {
   "cell_type": "code",
   "execution_count": 21,
   "id": "9ab14d6d-fa89-4e4b-9103-60835df4c6dc",
   "metadata": {},
   "outputs": [
    {
     "data": {
      "text/plain": [
       "0.9999995046014615"
      ]
     },
     "execution_count": 21,
     "metadata": {},
     "output_type": "execute_result"
    }
   ],
   "source": [
    "model.score(xtest,ytest)"
   ]
  },
  {
   "cell_type": "code",
   "execution_count": 22,
   "id": "a03a28ed-1493-411b-a7df-fa366be29083",
   "metadata": {},
   "outputs": [
    {
     "data": {
      "text/plain": [
       "0.9999994939253865"
      ]
     },
     "execution_count": 22,
     "metadata": {},
     "output_type": "execute_result"
    }
   ],
   "source": [
    "model.score(xtrain,ytrain)"
   ]
  },
  {
   "cell_type": "code",
   "execution_count": 23,
   "id": "b8bf9e45-99c5-4727-91ba-7768a98621c8",
   "metadata": {},
   "outputs": [
    {
     "data": {
      "text/plain": [
       "array([6349.3774869])"
      ]
     },
     "execution_count": 23,
     "metadata": {},
     "output_type": "execute_result"
    }
   ],
   "source": [
    "model.predict([[6349.17,6349.32,6349.17,6349.32,0.038261,242.927410,1,11,2018]])"
   ]
  },
  {
   "cell_type": "code",
   "execution_count": 24,
   "id": "907aaa49-d4d5-494c-960a-96a74ade4f1a",
   "metadata": {},
   "outputs": [
    {
     "data": {
      "text/plain": [
       "2388826    6348.936090\n",
       "2388827    6349.010000\n",
       "2388828    6349.214148\n",
       "Name: Weighted_Price, dtype: float64"
      ]
     },
     "execution_count": 24,
     "metadata": {},
     "output_type": "execute_result"
    }
   ],
   "source": [
    "y.tail(3)"
   ]
  },
  {
   "cell_type": "code",
   "execution_count": 25,
   "id": "bc12441c-dd39-4b17-b287-f80e8631502d",
   "metadata": {},
   "outputs": [
    {
     "data": {
      "text/html": [
       "<div>\n",
       "<style scoped>\n",
       "    .dataframe tbody tr th:only-of-type {\n",
       "        vertical-align: middle;\n",
       "    }\n",
       "\n",
       "    .dataframe tbody tr th {\n",
       "        vertical-align: top;\n",
       "    }\n",
       "\n",
       "    .dataframe thead th {\n",
       "        text-align: right;\n",
       "    }\n",
       "</style>\n",
       "<table border=\"1\" class=\"dataframe\">\n",
       "  <thead>\n",
       "    <tr style=\"text-align: right;\">\n",
       "      <th></th>\n",
       "      <th>Open</th>\n",
       "      <th>High</th>\n",
       "      <th>Low</th>\n",
       "      <th>Close</th>\n",
       "      <th>Volume_(BTC)</th>\n",
       "      <th>Volume_(Currency)</th>\n",
       "      <th>day</th>\n",
       "      <th>month</th>\n",
       "      <th>year</th>\n",
       "    </tr>\n",
       "  </thead>\n",
       "  <tbody>\n",
       "    <tr>\n",
       "      <th>2388826</th>\n",
       "      <td>6348.54</td>\n",
       "      <td>6349.01</td>\n",
       "      <td>6348.54</td>\n",
       "      <td>6349.01</td>\n",
       "      <td>0.011729</td>\n",
       "      <td>74.466671</td>\n",
       "      <td>1</td>\n",
       "      <td>11</td>\n",
       "      <td>2018</td>\n",
       "    </tr>\n",
       "    <tr>\n",
       "      <th>2388827</th>\n",
       "      <td>6349.01</td>\n",
       "      <td>6349.01</td>\n",
       "      <td>6349.01</td>\n",
       "      <td>6349.01</td>\n",
       "      <td>0.068436</td>\n",
       "      <td>434.503642</td>\n",
       "      <td>1</td>\n",
       "      <td>11</td>\n",
       "      <td>2018</td>\n",
       "    </tr>\n",
       "    <tr>\n",
       "      <th>2388828</th>\n",
       "      <td>6349.17</td>\n",
       "      <td>6349.32</td>\n",
       "      <td>6349.17</td>\n",
       "      <td>6349.32</td>\n",
       "      <td>0.038261</td>\n",
       "      <td>242.927410</td>\n",
       "      <td>1</td>\n",
       "      <td>11</td>\n",
       "      <td>2018</td>\n",
       "    </tr>\n",
       "  </tbody>\n",
       "</table>\n",
       "</div>"
      ],
      "text/plain": [
       "            Open     High      Low    Close  Volume_(BTC)  Volume_(Currency)  \\\n",
       "2388826  6348.54  6349.01  6348.54  6349.01      0.011729          74.466671   \n",
       "2388827  6349.01  6349.01  6349.01  6349.01      0.068436         434.503642   \n",
       "2388828  6349.17  6349.32  6349.17  6349.32      0.038261         242.927410   \n",
       "\n",
       "         day  month  year  \n",
       "2388826    1     11  2018  \n",
       "2388827    1     11  2018  \n",
       "2388828    1     11  2018  "
      ]
     },
     "execution_count": 25,
     "metadata": {},
     "output_type": "execute_result"
    }
   ],
   "source": [
    "x.tail(3)"
   ]
  },
  {
   "cell_type": "code",
   "execution_count": 26,
   "id": "a872f631-3eaf-4a43-b8b1-73110bb184c0",
   "metadata": {},
   "outputs": [],
   "source": [
    "y_pred=model.predict(xtest)"
   ]
  },
  {
   "cell_type": "code",
   "execution_count": 27,
   "id": "42ba924a-cb55-49e6-b5d9-d9c086028dde",
   "metadata": {},
   "outputs": [],
   "source": [
    "from sklearn.metrics import mean_absolute_error,mean_squared_error,explained_variance_score\n",
    "from math import sqrt"
   ]
  },
  {
   "cell_type": "code",
   "execution_count": 28,
   "id": "147cca5b-5fe0-456c-9d1e-9fdbd39f3ba8",
   "metadata": {},
   "outputs": [
    {
     "name": "stdout",
     "output_type": "stream",
     "text": [
      "EVS: 0.9999995046037956\n",
      "MAE: 0.8929247390941935\n",
      "MSE: 6.530596069674567\n",
      "RMSE: 2.5555030952191324\n"
     ]
    }
   ],
   "source": [
    "evs=explained_variance_score(ytest,y_pred)\n",
    "print('EVS:',evs)\n",
    "mae=mean_absolute_error(ytest,y_pred)\n",
    "print('MAE:',mae)\n",
    "mse=mean_squared_error(ytest,y_pred)\n",
    "print('MSE:',mse)\n",
    "rmse=sqrt(mse)\n",
    "print('RMSE:',rmse)"
   ]
  },
  {
   "cell_type": "code",
   "execution_count": 29,
   "id": "7a24cdd4-a373-4aad-995e-0beed6f5a16f",
   "metadata": {},
   "outputs": [
    {
     "data": {
      "text/plain": [
       "0.9999995046014615"
      ]
     },
     "execution_count": 29,
     "metadata": {},
     "output_type": "execute_result"
    }
   ],
   "source": [
    "from sklearn import metrics\n",
    "\n",
    "metrics.r2_score(ytest,y_pred)"
   ]
  },
  {
   "cell_type": "code",
   "execution_count": null,
   "id": "d8701249-3b55-49d9-9fc8-0ff5defcfac0",
   "metadata": {},
   "outputs": [],
   "source": []
  },
  {
   "cell_type": "markdown",
   "id": "4a832086-6e77-4bf4-9507-732355155a8d",
   "metadata": {},
   "source": [
    "# save it"
   ]
  },
  {
   "cell_type": "code",
   "execution_count": 32,
   "id": "ed939e13-e125-4c6d-861b-e28a4e65a0bb",
   "metadata": {},
   "outputs": [],
   "source": [
    "import pickle\n",
    "file=open('bitcoin.pkl','wb')\n",
    "pickle.dump(model,file)"
   ]
  },
  {
   "cell_type": "code",
   "execution_count": 33,
   "id": "b06b7bf0-65d1-49f3-8987-d6dd9f33f871",
   "metadata": {},
   "outputs": [],
   "source": [
    "models=open('bitcoin.pkl','rb')\n",
    "forest=pickle.load(models)"
   ]
  },
  {
   "cell_type": "code",
   "execution_count": 34,
   "id": "5718c6fe-218e-4220-8ca5-b0c770ae4542",
   "metadata": {},
   "outputs": [],
   "source": [
    "y_prediction=forest.predict(xtest)"
   ]
  },
  {
   "cell_type": "code",
   "execution_count": 35,
   "id": "cd834f58-3576-402a-a366-0148eba11c7a",
   "metadata": {},
   "outputs": [
    {
     "data": {
      "text/plain": [
       "0.9999995046014615"
      ]
     },
     "execution_count": 35,
     "metadata": {},
     "output_type": "execute_result"
    }
   ],
   "source": [
    "metrics.r2_score(ytest,y_prediction)"
   ]
  }
 ],
 "metadata": {
  "kernelspec": {
   "display_name": "Python 3 (ipykernel)",
   "language": "python",
   "name": "python3"
  },
  "language_info": {
   "codemirror_mode": {
    "name": "ipython",
    "version": 3
   },
   "file_extension": ".py",
   "mimetype": "text/x-python",
   "name": "python",
   "nbconvert_exporter": "python",
   "pygments_lexer": "ipython3",
   "version": "3.9.7"
  }
 },
 "nbformat": 4,
 "nbformat_minor": 5
}
