{
 "cells": [
  {
   "cell_type": "markdown",
   "id": "bac57922-3ef8-49bb-8638-5ecd6fae46d6",
   "metadata": {},
   "source": [
    "# Import libraries"
   ]
  },
  {
   "cell_type": "code",
   "execution_count": 1,
   "id": "32baa740-b334-4957-8483-67849b2dde85",
   "metadata": {},
   "outputs": [],
   "source": [
    "import numpy as np\n",
    "import pandas as pd\n",
    "from math import sqrt\n",
    "from sklearn.linear_model import LinearRegression\n",
    "from sklearn.model_selection import train_test_split\n",
    "from sklearn.metrics import mean_absolute_error,mean_squared_error,explained_variance_score"
   ]
  },
  {
   "cell_type": "markdown",
   "id": "c37ade59-f3dc-4d54-8d94-cd89ae89c08d",
   "metadata": {},
   "source": [
    "# read dataset"
   ]
  },
  {
   "cell_type": "code",
   "execution_count": 2,
   "id": "385ce335-65c7-4002-8ac6-a2d69dfaea92",
   "metadata": {},
   "outputs": [
    {
     "data": {
      "text/html": [
       "<div>\n",
       "<style scoped>\n",
       "    .dataframe tbody tr th:only-of-type {\n",
       "        vertical-align: middle;\n",
       "    }\n",
       "\n",
       "    .dataframe tbody tr th {\n",
       "        vertical-align: top;\n",
       "    }\n",
       "\n",
       "    .dataframe thead th {\n",
       "        text-align: right;\n",
       "    }\n",
       "</style>\n",
       "<table border=\"1\" class=\"dataframe\">\n",
       "  <thead>\n",
       "    <tr style=\"text-align: right;\">\n",
       "      <th></th>\n",
       "      <th>Timestamp</th>\n",
       "      <th>Open</th>\n",
       "      <th>High</th>\n",
       "      <th>Low</th>\n",
       "      <th>Close</th>\n",
       "      <th>Volume_BTC</th>\n",
       "      <th>Volume_Currency</th>\n",
       "      <th>Weighted_Price</th>\n",
       "    </tr>\n",
       "  </thead>\n",
       "  <tbody>\n",
       "    <tr>\n",
       "      <th>0</th>\n",
       "      <td>1325317920</td>\n",
       "      <td>4.39</td>\n",
       "      <td>4.39</td>\n",
       "      <td>4.39</td>\n",
       "      <td>4.39</td>\n",
       "      <td>0.455581</td>\n",
       "      <td>2.000000</td>\n",
       "      <td>4.390000</td>\n",
       "    </tr>\n",
       "    <tr>\n",
       "      <th>1</th>\n",
       "      <td>1325317980</td>\n",
       "      <td>NaN</td>\n",
       "      <td>NaN</td>\n",
       "      <td>NaN</td>\n",
       "      <td>NaN</td>\n",
       "      <td>NaN</td>\n",
       "      <td>NaN</td>\n",
       "      <td>NaN</td>\n",
       "    </tr>\n",
       "    <tr>\n",
       "      <th>2</th>\n",
       "      <td>1325318040</td>\n",
       "      <td>NaN</td>\n",
       "      <td>NaN</td>\n",
       "      <td>NaN</td>\n",
       "      <td>NaN</td>\n",
       "      <td>NaN</td>\n",
       "      <td>NaN</td>\n",
       "      <td>NaN</td>\n",
       "    </tr>\n",
       "    <tr>\n",
       "      <th>3</th>\n",
       "      <td>1325318100</td>\n",
       "      <td>NaN</td>\n",
       "      <td>NaN</td>\n",
       "      <td>NaN</td>\n",
       "      <td>NaN</td>\n",
       "      <td>NaN</td>\n",
       "      <td>NaN</td>\n",
       "      <td>NaN</td>\n",
       "    </tr>\n",
       "    <tr>\n",
       "      <th>4</th>\n",
       "      <td>1325318160</td>\n",
       "      <td>NaN</td>\n",
       "      <td>NaN</td>\n",
       "      <td>NaN</td>\n",
       "      <td>NaN</td>\n",
       "      <td>NaN</td>\n",
       "      <td>NaN</td>\n",
       "      <td>NaN</td>\n",
       "    </tr>\n",
       "    <tr>\n",
       "      <th>...</th>\n",
       "      <td>...</td>\n",
       "      <td>...</td>\n",
       "      <td>...</td>\n",
       "      <td>...</td>\n",
       "      <td>...</td>\n",
       "      <td>...</td>\n",
       "      <td>...</td>\n",
       "      <td>...</td>\n",
       "    </tr>\n",
       "    <tr>\n",
       "      <th>1048570</th>\n",
       "      <td>1388232120</td>\n",
       "      <td>734.60</td>\n",
       "      <td>734.60</td>\n",
       "      <td>730.00</td>\n",
       "      <td>734.55</td>\n",
       "      <td>1.789687</td>\n",
       "      <td>1313.640757</td>\n",
       "      <td>734.005698</td>\n",
       "    </tr>\n",
       "    <tr>\n",
       "      <th>1048571</th>\n",
       "      <td>1388232180</td>\n",
       "      <td>734.55</td>\n",
       "      <td>734.55</td>\n",
       "      <td>730.71</td>\n",
       "      <td>730.71</td>\n",
       "      <td>0.110236</td>\n",
       "      <td>80.802051</td>\n",
       "      <td>732.991499</td>\n",
       "    </tr>\n",
       "    <tr>\n",
       "      <th>1048572</th>\n",
       "      <td>1388232240</td>\n",
       "      <td>734.40</td>\n",
       "      <td>734.40</td>\n",
       "      <td>730.51</td>\n",
       "      <td>730.51</td>\n",
       "      <td>0.554786</td>\n",
       "      <td>407.247985</td>\n",
       "      <td>734.063488</td>\n",
       "    </tr>\n",
       "    <tr>\n",
       "      <th>1048573</th>\n",
       "      <td>1388232300</td>\n",
       "      <td>730.51</td>\n",
       "      <td>733.63</td>\n",
       "      <td>730.51</td>\n",
       "      <td>731.10</td>\n",
       "      <td>0.620446</td>\n",
       "      <td>453.777190</td>\n",
       "      <td>731.372707</td>\n",
       "    </tr>\n",
       "    <tr>\n",
       "      <th>1048574</th>\n",
       "      <td>1388232360</td>\n",
       "      <td>733.00</td>\n",
       "      <td>734.00</td>\n",
       "      <td>733.00</td>\n",
       "      <td>734.00</td>\n",
       "      <td>9.214205</td>\n",
       "      <td>6757.415227</td>\n",
       "      <td>733.369303</td>\n",
       "    </tr>\n",
       "  </tbody>\n",
       "</table>\n",
       "<p>1048575 rows × 8 columns</p>\n",
       "</div>"
      ],
      "text/plain": [
       "          Timestamp    Open    High     Low   Close  Volume_BTC  \\\n",
       "0        1325317920    4.39    4.39    4.39    4.39    0.455581   \n",
       "1        1325317980     NaN     NaN     NaN     NaN         NaN   \n",
       "2        1325318040     NaN     NaN     NaN     NaN         NaN   \n",
       "3        1325318100     NaN     NaN     NaN     NaN         NaN   \n",
       "4        1325318160     NaN     NaN     NaN     NaN         NaN   \n",
       "...             ...     ...     ...     ...     ...         ...   \n",
       "1048570  1388232120  734.60  734.60  730.00  734.55    1.789687   \n",
       "1048571  1388232180  734.55  734.55  730.71  730.71    0.110236   \n",
       "1048572  1388232240  734.40  734.40  730.51  730.51    0.554786   \n",
       "1048573  1388232300  730.51  733.63  730.51  731.10    0.620446   \n",
       "1048574  1388232360  733.00  734.00  733.00  734.00    9.214205   \n",
       "\n",
       "         Volume_Currency  Weighted_Price  \n",
       "0               2.000000        4.390000  \n",
       "1                    NaN             NaN  \n",
       "2                    NaN             NaN  \n",
       "3                    NaN             NaN  \n",
       "4                    NaN             NaN  \n",
       "...                  ...             ...  \n",
       "1048570      1313.640757      734.005698  \n",
       "1048571        80.802051      732.991499  \n",
       "1048572       407.247985      734.063488  \n",
       "1048573       453.777190      731.372707  \n",
       "1048574      6757.415227      733.369303  \n",
       "\n",
       "[1048575 rows x 8 columns]"
      ]
     },
     "execution_count": 2,
     "metadata": {},
     "output_type": "execute_result"
    }
   ],
   "source": [
    "data=pd.read_csv(r'C:\\Users\\amrit\\Downloads\\bitstampUSD_1-min_data_2012-01-01_to_2018-11-11.csv')\n",
    "data"
   ]
  },
  {
   "cell_type": "markdown",
   "id": "0dfeec42-3b24-49ea-848b-6dd76c128c14",
   "metadata": {},
   "source": [
    "# Drop nan values"
   ]
  },
  {
   "cell_type": "code",
   "execution_count": 3,
   "id": "ae8b1fab-24a4-4889-99c0-7c9173f8478d",
   "metadata": {},
   "outputs": [],
   "source": [
    "data.dropna(inplace=True)"
   ]
  },
  {
   "cell_type": "markdown",
   "id": "e480951b-d32a-42b0-982f-4617df5cd355",
   "metadata": {},
   "source": [
    "# Dispaly maximum columns in the dataset"
   ]
  },
  {
   "cell_type": "code",
   "execution_count": 4,
   "id": "17ca79b5-6c13-45ff-8a25-571bbf282001",
   "metadata": {},
   "outputs": [],
   "source": [
    "pd.set_option('display.max_columns',None)"
   ]
  },
  {
   "cell_type": "code",
   "execution_count": 5,
   "id": "9085ea64-0e0e-4cad-8b5c-3b7cff595aaf",
   "metadata": {
    "tags": []
   },
   "outputs": [
    {
     "data": {
      "text/html": [
       "<div>\n",
       "<style scoped>\n",
       "    .dataframe tbody tr th:only-of-type {\n",
       "        vertical-align: middle;\n",
       "    }\n",
       "\n",
       "    .dataframe tbody tr th {\n",
       "        vertical-align: top;\n",
       "    }\n",
       "\n",
       "    .dataframe thead th {\n",
       "        text-align: right;\n",
       "    }\n",
       "</style>\n",
       "<table border=\"1\" class=\"dataframe\">\n",
       "  <thead>\n",
       "    <tr style=\"text-align: right;\">\n",
       "      <th></th>\n",
       "      <th>Timestamp</th>\n",
       "      <th>Open</th>\n",
       "      <th>High</th>\n",
       "      <th>Low</th>\n",
       "      <th>Close</th>\n",
       "      <th>Volume_BTC</th>\n",
       "      <th>Volume_Currency</th>\n",
       "      <th>Weighted_Price</th>\n",
       "    </tr>\n",
       "  </thead>\n",
       "  <tbody>\n",
       "    <tr>\n",
       "      <th>0</th>\n",
       "      <td>1325317920</td>\n",
       "      <td>4.39</td>\n",
       "      <td>4.39</td>\n",
       "      <td>4.39</td>\n",
       "      <td>4.39</td>\n",
       "      <td>0.455581</td>\n",
       "      <td>2.000000</td>\n",
       "      <td>4.390000</td>\n",
       "    </tr>\n",
       "    <tr>\n",
       "      <th>478</th>\n",
       "      <td>1325346600</td>\n",
       "      <td>4.39</td>\n",
       "      <td>4.39</td>\n",
       "      <td>4.39</td>\n",
       "      <td>4.39</td>\n",
       "      <td>48.000000</td>\n",
       "      <td>210.720000</td>\n",
       "      <td>4.390000</td>\n",
       "    </tr>\n",
       "    <tr>\n",
       "      <th>547</th>\n",
       "      <td>1325350740</td>\n",
       "      <td>4.50</td>\n",
       "      <td>4.57</td>\n",
       "      <td>4.50</td>\n",
       "      <td>4.57</td>\n",
       "      <td>37.862297</td>\n",
       "      <td>171.380337</td>\n",
       "      <td>4.526411</td>\n",
       "    </tr>\n",
       "    <tr>\n",
       "      <th>548</th>\n",
       "      <td>1325350800</td>\n",
       "      <td>4.58</td>\n",
       "      <td>4.58</td>\n",
       "      <td>4.58</td>\n",
       "      <td>4.58</td>\n",
       "      <td>9.000000</td>\n",
       "      <td>41.220000</td>\n",
       "      <td>4.580000</td>\n",
       "    </tr>\n",
       "    <tr>\n",
       "      <th>1224</th>\n",
       "      <td>1325391360</td>\n",
       "      <td>4.58</td>\n",
       "      <td>4.58</td>\n",
       "      <td>4.58</td>\n",
       "      <td>4.58</td>\n",
       "      <td>1.502000</td>\n",
       "      <td>6.879160</td>\n",
       "      <td>4.580000</td>\n",
       "    </tr>\n",
       "    <tr>\n",
       "      <th>...</th>\n",
       "      <td>...</td>\n",
       "      <td>...</td>\n",
       "      <td>...</td>\n",
       "      <td>...</td>\n",
       "      <td>...</td>\n",
       "      <td>...</td>\n",
       "      <td>...</td>\n",
       "      <td>...</td>\n",
       "    </tr>\n",
       "    <tr>\n",
       "      <th>1048570</th>\n",
       "      <td>1388232120</td>\n",
       "      <td>734.60</td>\n",
       "      <td>734.60</td>\n",
       "      <td>730.00</td>\n",
       "      <td>734.55</td>\n",
       "      <td>1.789687</td>\n",
       "      <td>1313.640757</td>\n",
       "      <td>734.005698</td>\n",
       "    </tr>\n",
       "    <tr>\n",
       "      <th>1048571</th>\n",
       "      <td>1388232180</td>\n",
       "      <td>734.55</td>\n",
       "      <td>734.55</td>\n",
       "      <td>730.71</td>\n",
       "      <td>730.71</td>\n",
       "      <td>0.110236</td>\n",
       "      <td>80.802051</td>\n",
       "      <td>732.991499</td>\n",
       "    </tr>\n",
       "    <tr>\n",
       "      <th>1048572</th>\n",
       "      <td>1388232240</td>\n",
       "      <td>734.40</td>\n",
       "      <td>734.40</td>\n",
       "      <td>730.51</td>\n",
       "      <td>730.51</td>\n",
       "      <td>0.554786</td>\n",
       "      <td>407.247985</td>\n",
       "      <td>734.063488</td>\n",
       "    </tr>\n",
       "    <tr>\n",
       "      <th>1048573</th>\n",
       "      <td>1388232300</td>\n",
       "      <td>730.51</td>\n",
       "      <td>733.63</td>\n",
       "      <td>730.51</td>\n",
       "      <td>731.10</td>\n",
       "      <td>0.620446</td>\n",
       "      <td>453.777190</td>\n",
       "      <td>731.372707</td>\n",
       "    </tr>\n",
       "    <tr>\n",
       "      <th>1048574</th>\n",
       "      <td>1388232360</td>\n",
       "      <td>733.00</td>\n",
       "      <td>734.00</td>\n",
       "      <td>733.00</td>\n",
       "      <td>734.00</td>\n",
       "      <td>9.214205</td>\n",
       "      <td>6757.415227</td>\n",
       "      <td>733.369303</td>\n",
       "    </tr>\n",
       "  </tbody>\n",
       "</table>\n",
       "<p>342169 rows × 8 columns</p>\n",
       "</div>"
      ],
      "text/plain": [
       "          Timestamp    Open    High     Low   Close  Volume_BTC  \\\n",
       "0        1325317920    4.39    4.39    4.39    4.39    0.455581   \n",
       "478      1325346600    4.39    4.39    4.39    4.39   48.000000   \n",
       "547      1325350740    4.50    4.57    4.50    4.57   37.862297   \n",
       "548      1325350800    4.58    4.58    4.58    4.58    9.000000   \n",
       "1224     1325391360    4.58    4.58    4.58    4.58    1.502000   \n",
       "...             ...     ...     ...     ...     ...         ...   \n",
       "1048570  1388232120  734.60  734.60  730.00  734.55    1.789687   \n",
       "1048571  1388232180  734.55  734.55  730.71  730.71    0.110236   \n",
       "1048572  1388232240  734.40  734.40  730.51  730.51    0.554786   \n",
       "1048573  1388232300  730.51  733.63  730.51  731.10    0.620446   \n",
       "1048574  1388232360  733.00  734.00  733.00  734.00    9.214205   \n",
       "\n",
       "         Volume_Currency  Weighted_Price  \n",
       "0               2.000000        4.390000  \n",
       "478           210.720000        4.390000  \n",
       "547           171.380337        4.526411  \n",
       "548            41.220000        4.580000  \n",
       "1224            6.879160        4.580000  \n",
       "...                  ...             ...  \n",
       "1048570      1313.640757      734.005698  \n",
       "1048571        80.802051      732.991499  \n",
       "1048572       407.247985      734.063488  \n",
       "1048573       453.777190      731.372707  \n",
       "1048574      6757.415227      733.369303  \n",
       "\n",
       "[342169 rows x 8 columns]"
      ]
     },
     "execution_count": 5,
     "metadata": {},
     "output_type": "execute_result"
    }
   ],
   "source": [
    "data"
   ]
  },
  {
   "cell_type": "markdown",
   "id": "8fbd1312-e21c-428e-a9f5-ee0f772d72f1",
   "metadata": {},
   "source": [
    "# Check data shape"
   ]
  },
  {
   "cell_type": "code",
   "execution_count": 6,
   "id": "33a9e2e3-8db8-4f59-bbe5-53bc2f61d7eb",
   "metadata": {},
   "outputs": [
    {
     "data": {
      "text/plain": [
       "(342169, 8)"
      ]
     },
     "execution_count": 6,
     "metadata": {},
     "output_type": "execute_result"
    }
   ],
   "source": [
    "data.shape"
   ]
  },
  {
   "cell_type": "code",
   "execution_count": 7,
   "id": "9984e075-3f9a-48fc-a8e9-6b5c47697427",
   "metadata": {},
   "outputs": [
    {
     "data": {
      "text/html": [
       "<div>\n",
       "<style scoped>\n",
       "    .dataframe tbody tr th:only-of-type {\n",
       "        vertical-align: middle;\n",
       "    }\n",
       "\n",
       "    .dataframe tbody tr th {\n",
       "        vertical-align: top;\n",
       "    }\n",
       "\n",
       "    .dataframe thead th {\n",
       "        text-align: right;\n",
       "    }\n",
       "</style>\n",
       "<table border=\"1\" class=\"dataframe\">\n",
       "  <thead>\n",
       "    <tr style=\"text-align: right;\">\n",
       "      <th></th>\n",
       "      <th>Timestamp</th>\n",
       "      <th>Open</th>\n",
       "      <th>High</th>\n",
       "      <th>Low</th>\n",
       "      <th>Close</th>\n",
       "      <th>Volume_BTC</th>\n",
       "      <th>Volume_Currency</th>\n",
       "      <th>Weighted_Price</th>\n",
       "    </tr>\n",
       "  </thead>\n",
       "  <tbody>\n",
       "    <tr>\n",
       "      <th>0</th>\n",
       "      <td>1325317920</td>\n",
       "      <td>4.39</td>\n",
       "      <td>4.39</td>\n",
       "      <td>4.39</td>\n",
       "      <td>4.39</td>\n",
       "      <td>0.455581</td>\n",
       "      <td>2.000000</td>\n",
       "      <td>4.390000</td>\n",
       "    </tr>\n",
       "    <tr>\n",
       "      <th>478</th>\n",
       "      <td>1325346600</td>\n",
       "      <td>4.39</td>\n",
       "      <td>4.39</td>\n",
       "      <td>4.39</td>\n",
       "      <td>4.39</td>\n",
       "      <td>48.000000</td>\n",
       "      <td>210.720000</td>\n",
       "      <td>4.390000</td>\n",
       "    </tr>\n",
       "    <tr>\n",
       "      <th>547</th>\n",
       "      <td>1325350740</td>\n",
       "      <td>4.50</td>\n",
       "      <td>4.57</td>\n",
       "      <td>4.50</td>\n",
       "      <td>4.57</td>\n",
       "      <td>37.862297</td>\n",
       "      <td>171.380337</td>\n",
       "      <td>4.526411</td>\n",
       "    </tr>\n",
       "    <tr>\n",
       "      <th>548</th>\n",
       "      <td>1325350800</td>\n",
       "      <td>4.58</td>\n",
       "      <td>4.58</td>\n",
       "      <td>4.58</td>\n",
       "      <td>4.58</td>\n",
       "      <td>9.000000</td>\n",
       "      <td>41.220000</td>\n",
       "      <td>4.580000</td>\n",
       "    </tr>\n",
       "    <tr>\n",
       "      <th>1224</th>\n",
       "      <td>1325391360</td>\n",
       "      <td>4.58</td>\n",
       "      <td>4.58</td>\n",
       "      <td>4.58</td>\n",
       "      <td>4.58</td>\n",
       "      <td>1.502000</td>\n",
       "      <td>6.879160</td>\n",
       "      <td>4.580000</td>\n",
       "    </tr>\n",
       "  </tbody>\n",
       "</table>\n",
       "</div>"
      ],
      "text/plain": [
       "       Timestamp  Open  High   Low  Close  Volume_BTC  Volume_Currency  \\\n",
       "0     1325317920  4.39  4.39  4.39   4.39    0.455581         2.000000   \n",
       "478   1325346600  4.39  4.39  4.39   4.39   48.000000       210.720000   \n",
       "547   1325350740  4.50  4.57  4.50   4.57   37.862297       171.380337   \n",
       "548   1325350800  4.58  4.58  4.58   4.58    9.000000        41.220000   \n",
       "1224  1325391360  4.58  4.58  4.58   4.58    1.502000         6.879160   \n",
       "\n",
       "      Weighted_Price  \n",
       "0           4.390000  \n",
       "478         4.390000  \n",
       "547         4.526411  \n",
       "548         4.580000  \n",
       "1224        4.580000  "
      ]
     },
     "execution_count": 7,
     "metadata": {},
     "output_type": "execute_result"
    }
   ],
   "source": [
    "data.head()"
   ]
  },
  {
   "cell_type": "code",
   "execution_count": 8,
   "id": "3853ba12-a4b5-4e40-b546-df89fcfcd517",
   "metadata": {},
   "outputs": [
    {
     "name": "stdout",
     "output_type": "stream",
     "text": [
      "<class 'pandas.core.frame.DataFrame'>\n",
      "Int64Index: 342169 entries, 0 to 1048574\n",
      "Data columns (total 8 columns):\n",
      " #   Column           Non-Null Count   Dtype  \n",
      "---  ------           --------------   -----  \n",
      " 0   Timestamp        342169 non-null  int64  \n",
      " 1   Open             342169 non-null  float64\n",
      " 2   High             342169 non-null  float64\n",
      " 3   Low              342169 non-null  float64\n",
      " 4   Close            342169 non-null  float64\n",
      " 5   Volume_BTC       342169 non-null  float64\n",
      " 6   Volume_Currency  342169 non-null  float64\n",
      " 7   Weighted_Price   342169 non-null  float64\n",
      "dtypes: float64(7), int64(1)\n",
      "memory usage: 23.5 MB\n"
     ]
    }
   ],
   "source": [
    "data.info()"
   ]
  },
  {
   "cell_type": "markdown",
   "id": "04f468dd-ad67-4924-9312-ff2bd4d6306e",
   "metadata": {},
   "source": [
    "# Cleaning process"
   ]
  },
  {
   "cell_type": "markdown",
   "id": "fa05df33-75a2-4768-b249-b65f6388b0bb",
   "metadata": {},
   "source": [
    "# Convert Timestamp column in to date format"
   ]
  },
  {
   "cell_type": "code",
   "execution_count": 9,
   "id": "2c5e833e-e53b-4293-95b1-b31e5f0d81b5",
   "metadata": {},
   "outputs": [],
   "source": [
    "data['Timestamp'] = pd.to_datetime(data['Timestamp'], unit='s')\n",
    "data['Timestamp'] = pd.to_datetime(data['Timestamp']).dt.to_period('m')\n",
    "data.set_index(data['Timestamp'], inplace=True)\n",
    "data.drop(['Timestamp'],axis=1,inplace=True)\n",
    "data=data.to_timestamp()"
   ]
  },
  {
   "cell_type": "code",
   "execution_count": 10,
   "id": "e35e67ed-0675-4d86-8e11-313a795413d1",
   "metadata": {},
   "outputs": [
    {
     "data": {
      "text/html": [
       "<div>\n",
       "<style scoped>\n",
       "    .dataframe tbody tr th:only-of-type {\n",
       "        vertical-align: middle;\n",
       "    }\n",
       "\n",
       "    .dataframe tbody tr th {\n",
       "        vertical-align: top;\n",
       "    }\n",
       "\n",
       "    .dataframe thead th {\n",
       "        text-align: right;\n",
       "    }\n",
       "</style>\n",
       "<table border=\"1\" class=\"dataframe\">\n",
       "  <thead>\n",
       "    <tr style=\"text-align: right;\">\n",
       "      <th></th>\n",
       "      <th>Open</th>\n",
       "      <th>High</th>\n",
       "      <th>Low</th>\n",
       "      <th>Close</th>\n",
       "      <th>Volume_BTC</th>\n",
       "      <th>Volume_Currency</th>\n",
       "      <th>Weighted_Price</th>\n",
       "    </tr>\n",
       "    <tr>\n",
       "      <th>Timestamp</th>\n",
       "      <th></th>\n",
       "      <th></th>\n",
       "      <th></th>\n",
       "      <th></th>\n",
       "      <th></th>\n",
       "      <th></th>\n",
       "      <th></th>\n",
       "    </tr>\n",
       "  </thead>\n",
       "  <tbody>\n",
       "    <tr>\n",
       "      <th>2011-12-01</th>\n",
       "      <td>4.39</td>\n",
       "      <td>4.39</td>\n",
       "      <td>4.39</td>\n",
       "      <td>4.39</td>\n",
       "      <td>0.455581</td>\n",
       "      <td>2.000000</td>\n",
       "      <td>4.390000</td>\n",
       "    </tr>\n",
       "    <tr>\n",
       "      <th>2011-12-01</th>\n",
       "      <td>4.39</td>\n",
       "      <td>4.39</td>\n",
       "      <td>4.39</td>\n",
       "      <td>4.39</td>\n",
       "      <td>48.000000</td>\n",
       "      <td>210.720000</td>\n",
       "      <td>4.390000</td>\n",
       "    </tr>\n",
       "    <tr>\n",
       "      <th>2011-12-01</th>\n",
       "      <td>4.50</td>\n",
       "      <td>4.57</td>\n",
       "      <td>4.50</td>\n",
       "      <td>4.57</td>\n",
       "      <td>37.862297</td>\n",
       "      <td>171.380337</td>\n",
       "      <td>4.526411</td>\n",
       "    </tr>\n",
       "    <tr>\n",
       "      <th>2011-12-01</th>\n",
       "      <td>4.58</td>\n",
       "      <td>4.58</td>\n",
       "      <td>4.58</td>\n",
       "      <td>4.58</td>\n",
       "      <td>9.000000</td>\n",
       "      <td>41.220000</td>\n",
       "      <td>4.580000</td>\n",
       "    </tr>\n",
       "    <tr>\n",
       "      <th>2012-01-01</th>\n",
       "      <td>4.58</td>\n",
       "      <td>4.58</td>\n",
       "      <td>4.58</td>\n",
       "      <td>4.58</td>\n",
       "      <td>1.502000</td>\n",
       "      <td>6.879160</td>\n",
       "      <td>4.580000</td>\n",
       "    </tr>\n",
       "    <tr>\n",
       "      <th>...</th>\n",
       "      <td>...</td>\n",
       "      <td>...</td>\n",
       "      <td>...</td>\n",
       "      <td>...</td>\n",
       "      <td>...</td>\n",
       "      <td>...</td>\n",
       "      <td>...</td>\n",
       "    </tr>\n",
       "    <tr>\n",
       "      <th>2013-12-01</th>\n",
       "      <td>734.60</td>\n",
       "      <td>734.60</td>\n",
       "      <td>730.00</td>\n",
       "      <td>734.55</td>\n",
       "      <td>1.789687</td>\n",
       "      <td>1313.640757</td>\n",
       "      <td>734.005698</td>\n",
       "    </tr>\n",
       "    <tr>\n",
       "      <th>2013-12-01</th>\n",
       "      <td>734.55</td>\n",
       "      <td>734.55</td>\n",
       "      <td>730.71</td>\n",
       "      <td>730.71</td>\n",
       "      <td>0.110236</td>\n",
       "      <td>80.802051</td>\n",
       "      <td>732.991499</td>\n",
       "    </tr>\n",
       "    <tr>\n",
       "      <th>2013-12-01</th>\n",
       "      <td>734.40</td>\n",
       "      <td>734.40</td>\n",
       "      <td>730.51</td>\n",
       "      <td>730.51</td>\n",
       "      <td>0.554786</td>\n",
       "      <td>407.247985</td>\n",
       "      <td>734.063488</td>\n",
       "    </tr>\n",
       "    <tr>\n",
       "      <th>2013-12-01</th>\n",
       "      <td>730.51</td>\n",
       "      <td>733.63</td>\n",
       "      <td>730.51</td>\n",
       "      <td>731.10</td>\n",
       "      <td>0.620446</td>\n",
       "      <td>453.777190</td>\n",
       "      <td>731.372707</td>\n",
       "    </tr>\n",
       "    <tr>\n",
       "      <th>2013-12-01</th>\n",
       "      <td>733.00</td>\n",
       "      <td>734.00</td>\n",
       "      <td>733.00</td>\n",
       "      <td>734.00</td>\n",
       "      <td>9.214205</td>\n",
       "      <td>6757.415227</td>\n",
       "      <td>733.369303</td>\n",
       "    </tr>\n",
       "  </tbody>\n",
       "</table>\n",
       "<p>342169 rows × 7 columns</p>\n",
       "</div>"
      ],
      "text/plain": [
       "              Open    High     Low   Close  Volume_BTC  Volume_Currency  \\\n",
       "Timestamp                                                                 \n",
       "2011-12-01    4.39    4.39    4.39    4.39    0.455581         2.000000   \n",
       "2011-12-01    4.39    4.39    4.39    4.39   48.000000       210.720000   \n",
       "2011-12-01    4.50    4.57    4.50    4.57   37.862297       171.380337   \n",
       "2011-12-01    4.58    4.58    4.58    4.58    9.000000        41.220000   \n",
       "2012-01-01    4.58    4.58    4.58    4.58    1.502000         6.879160   \n",
       "...            ...     ...     ...     ...         ...              ...   \n",
       "2013-12-01  734.60  734.60  730.00  734.55    1.789687      1313.640757   \n",
       "2013-12-01  734.55  734.55  730.71  730.71    0.110236        80.802051   \n",
       "2013-12-01  734.40  734.40  730.51  730.51    0.554786       407.247985   \n",
       "2013-12-01  730.51  733.63  730.51  731.10    0.620446       453.777190   \n",
       "2013-12-01  733.00  734.00  733.00  734.00    9.214205      6757.415227   \n",
       "\n",
       "            Weighted_Price  \n",
       "Timestamp                   \n",
       "2011-12-01        4.390000  \n",
       "2011-12-01        4.390000  \n",
       "2011-12-01        4.526411  \n",
       "2011-12-01        4.580000  \n",
       "2012-01-01        4.580000  \n",
       "...                    ...  \n",
       "2013-12-01      734.005698  \n",
       "2013-12-01      732.991499  \n",
       "2013-12-01      734.063488  \n",
       "2013-12-01      731.372707  \n",
       "2013-12-01      733.369303  \n",
       "\n",
       "[342169 rows x 7 columns]"
      ]
     },
     "execution_count": 10,
     "metadata": {},
     "output_type": "execute_result"
    }
   ],
   "source": [
    "data"
   ]
  },
  {
   "cell_type": "code",
   "execution_count": 11,
   "id": "d0a94a7b-baea-45b7-ad42-6dc980413640",
   "metadata": {},
   "outputs": [],
   "source": [
    "data=data.reset_index()\n"
   ]
  },
  {
   "cell_type": "code",
   "execution_count": 12,
   "id": "1859e689-2c86-4178-abdb-68cb123ead39",
   "metadata": {},
   "outputs": [
    {
     "data": {
      "text/html": [
       "<div>\n",
       "<style scoped>\n",
       "    .dataframe tbody tr th:only-of-type {\n",
       "        vertical-align: middle;\n",
       "    }\n",
       "\n",
       "    .dataframe tbody tr th {\n",
       "        vertical-align: top;\n",
       "    }\n",
       "\n",
       "    .dataframe thead th {\n",
       "        text-align: right;\n",
       "    }\n",
       "</style>\n",
       "<table border=\"1\" class=\"dataframe\">\n",
       "  <thead>\n",
       "    <tr style=\"text-align: right;\">\n",
       "      <th></th>\n",
       "      <th>Timestamp</th>\n",
       "      <th>Open</th>\n",
       "      <th>High</th>\n",
       "      <th>Low</th>\n",
       "      <th>Close</th>\n",
       "      <th>Volume_BTC</th>\n",
       "      <th>Volume_Currency</th>\n",
       "      <th>Weighted_Price</th>\n",
       "    </tr>\n",
       "  </thead>\n",
       "  <tbody>\n",
       "    <tr>\n",
       "      <th>0</th>\n",
       "      <td>2011-12-01</td>\n",
       "      <td>4.39</td>\n",
       "      <td>4.39</td>\n",
       "      <td>4.39</td>\n",
       "      <td>4.39</td>\n",
       "      <td>0.455581</td>\n",
       "      <td>2.000000</td>\n",
       "      <td>4.390000</td>\n",
       "    </tr>\n",
       "    <tr>\n",
       "      <th>1</th>\n",
       "      <td>2011-12-01</td>\n",
       "      <td>4.39</td>\n",
       "      <td>4.39</td>\n",
       "      <td>4.39</td>\n",
       "      <td>4.39</td>\n",
       "      <td>48.000000</td>\n",
       "      <td>210.720000</td>\n",
       "      <td>4.390000</td>\n",
       "    </tr>\n",
       "    <tr>\n",
       "      <th>2</th>\n",
       "      <td>2011-12-01</td>\n",
       "      <td>4.50</td>\n",
       "      <td>4.57</td>\n",
       "      <td>4.50</td>\n",
       "      <td>4.57</td>\n",
       "      <td>37.862297</td>\n",
       "      <td>171.380337</td>\n",
       "      <td>4.526411</td>\n",
       "    </tr>\n",
       "    <tr>\n",
       "      <th>3</th>\n",
       "      <td>2011-12-01</td>\n",
       "      <td>4.58</td>\n",
       "      <td>4.58</td>\n",
       "      <td>4.58</td>\n",
       "      <td>4.58</td>\n",
       "      <td>9.000000</td>\n",
       "      <td>41.220000</td>\n",
       "      <td>4.580000</td>\n",
       "    </tr>\n",
       "    <tr>\n",
       "      <th>4</th>\n",
       "      <td>2012-01-01</td>\n",
       "      <td>4.58</td>\n",
       "      <td>4.58</td>\n",
       "      <td>4.58</td>\n",
       "      <td>4.58</td>\n",
       "      <td>1.502000</td>\n",
       "      <td>6.879160</td>\n",
       "      <td>4.580000</td>\n",
       "    </tr>\n",
       "    <tr>\n",
       "      <th>...</th>\n",
       "      <td>...</td>\n",
       "      <td>...</td>\n",
       "      <td>...</td>\n",
       "      <td>...</td>\n",
       "      <td>...</td>\n",
       "      <td>...</td>\n",
       "      <td>...</td>\n",
       "      <td>...</td>\n",
       "    </tr>\n",
       "    <tr>\n",
       "      <th>342164</th>\n",
       "      <td>2013-12-01</td>\n",
       "      <td>734.60</td>\n",
       "      <td>734.60</td>\n",
       "      <td>730.00</td>\n",
       "      <td>734.55</td>\n",
       "      <td>1.789687</td>\n",
       "      <td>1313.640757</td>\n",
       "      <td>734.005698</td>\n",
       "    </tr>\n",
       "    <tr>\n",
       "      <th>342165</th>\n",
       "      <td>2013-12-01</td>\n",
       "      <td>734.55</td>\n",
       "      <td>734.55</td>\n",
       "      <td>730.71</td>\n",
       "      <td>730.71</td>\n",
       "      <td>0.110236</td>\n",
       "      <td>80.802051</td>\n",
       "      <td>732.991499</td>\n",
       "    </tr>\n",
       "    <tr>\n",
       "      <th>342166</th>\n",
       "      <td>2013-12-01</td>\n",
       "      <td>734.40</td>\n",
       "      <td>734.40</td>\n",
       "      <td>730.51</td>\n",
       "      <td>730.51</td>\n",
       "      <td>0.554786</td>\n",
       "      <td>407.247985</td>\n",
       "      <td>734.063488</td>\n",
       "    </tr>\n",
       "    <tr>\n",
       "      <th>342167</th>\n",
       "      <td>2013-12-01</td>\n",
       "      <td>730.51</td>\n",
       "      <td>733.63</td>\n",
       "      <td>730.51</td>\n",
       "      <td>731.10</td>\n",
       "      <td>0.620446</td>\n",
       "      <td>453.777190</td>\n",
       "      <td>731.372707</td>\n",
       "    </tr>\n",
       "    <tr>\n",
       "      <th>342168</th>\n",
       "      <td>2013-12-01</td>\n",
       "      <td>733.00</td>\n",
       "      <td>734.00</td>\n",
       "      <td>733.00</td>\n",
       "      <td>734.00</td>\n",
       "      <td>9.214205</td>\n",
       "      <td>6757.415227</td>\n",
       "      <td>733.369303</td>\n",
       "    </tr>\n",
       "  </tbody>\n",
       "</table>\n",
       "<p>342169 rows × 8 columns</p>\n",
       "</div>"
      ],
      "text/plain": [
       "        Timestamp    Open    High     Low   Close  Volume_BTC  \\\n",
       "0      2011-12-01    4.39    4.39    4.39    4.39    0.455581   \n",
       "1      2011-12-01    4.39    4.39    4.39    4.39   48.000000   \n",
       "2      2011-12-01    4.50    4.57    4.50    4.57   37.862297   \n",
       "3      2011-12-01    4.58    4.58    4.58    4.58    9.000000   \n",
       "4      2012-01-01    4.58    4.58    4.58    4.58    1.502000   \n",
       "...           ...     ...     ...     ...     ...         ...   \n",
       "342164 2013-12-01  734.60  734.60  730.00  734.55    1.789687   \n",
       "342165 2013-12-01  734.55  734.55  730.71  730.71    0.110236   \n",
       "342166 2013-12-01  734.40  734.40  730.51  730.51    0.554786   \n",
       "342167 2013-12-01  730.51  733.63  730.51  731.10    0.620446   \n",
       "342168 2013-12-01  733.00  734.00  733.00  734.00    9.214205   \n",
       "\n",
       "        Volume_Currency  Weighted_Price  \n",
       "0              2.000000        4.390000  \n",
       "1            210.720000        4.390000  \n",
       "2            171.380337        4.526411  \n",
       "3             41.220000        4.580000  \n",
       "4              6.879160        4.580000  \n",
       "...                 ...             ...  \n",
       "342164      1313.640757      734.005698  \n",
       "342165        80.802051      732.991499  \n",
       "342166       407.247985      734.063488  \n",
       "342167       453.777190      731.372707  \n",
       "342168      6757.415227      733.369303  \n",
       "\n",
       "[342169 rows x 8 columns]"
      ]
     },
     "execution_count": 12,
     "metadata": {},
     "output_type": "execute_result"
    }
   ],
   "source": [
    "data"
   ]
  },
  {
   "cell_type": "markdown",
   "id": "f1ab6f02-5be2-4284-aa37-bbd8f353d404",
   "metadata": {},
   "source": [
    "# Split Timestamp column into day, month and year"
   ]
  },
  {
   "cell_type": "code",
   "execution_count": 13,
   "id": "24263710-e69b-48ce-859e-7f7936d7b4f2",
   "metadata": {},
   "outputs": [],
   "source": [
    "data['day']=pd.to_datetime(data['Timestamp'],format='%d-%m-%Y').dt.day\n",
    "data['month']=pd.to_datetime(data['Timestamp'],format='%d-%m-%Y').dt.month\n",
    "data['year']=pd.to_datetime(data['Timestamp'],format='%d-%m-%Y').dt.year\n"
   ]
  },
  {
   "cell_type": "markdown",
   "id": "32d82ab8-11f4-47a8-b383-6e8003c6775b",
   "metadata": {},
   "source": [
    "# Drop Timestamp column"
   ]
  },
  {
   "cell_type": "code",
   "execution_count": 14,
   "id": "f2eb6d18-6e66-45bb-8326-185ff3208c2d",
   "metadata": {},
   "outputs": [],
   "source": [
    "data.drop(['Timestamp'],axis=1,inplace=True)"
   ]
  },
  {
   "cell_type": "code",
   "execution_count": 15,
   "id": "1986c630-4172-44d1-90dd-2d1eed73e58d",
   "metadata": {},
   "outputs": [
    {
     "data": {
      "text/html": [
       "<div>\n",
       "<style scoped>\n",
       "    .dataframe tbody tr th:only-of-type {\n",
       "        vertical-align: middle;\n",
       "    }\n",
       "\n",
       "    .dataframe tbody tr th {\n",
       "        vertical-align: top;\n",
       "    }\n",
       "\n",
       "    .dataframe thead th {\n",
       "        text-align: right;\n",
       "    }\n",
       "</style>\n",
       "<table border=\"1\" class=\"dataframe\">\n",
       "  <thead>\n",
       "    <tr style=\"text-align: right;\">\n",
       "      <th></th>\n",
       "      <th>Open</th>\n",
       "      <th>High</th>\n",
       "      <th>Low</th>\n",
       "      <th>Close</th>\n",
       "      <th>Volume_BTC</th>\n",
       "      <th>Volume_Currency</th>\n",
       "      <th>Weighted_Price</th>\n",
       "      <th>day</th>\n",
       "      <th>month</th>\n",
       "      <th>year</th>\n",
       "    </tr>\n",
       "  </thead>\n",
       "  <tbody>\n",
       "    <tr>\n",
       "      <th>0</th>\n",
       "      <td>4.39</td>\n",
       "      <td>4.39</td>\n",
       "      <td>4.39</td>\n",
       "      <td>4.39</td>\n",
       "      <td>0.455581</td>\n",
       "      <td>2.000000</td>\n",
       "      <td>4.390000</td>\n",
       "      <td>1</td>\n",
       "      <td>12</td>\n",
       "      <td>2011</td>\n",
       "    </tr>\n",
       "    <tr>\n",
       "      <th>1</th>\n",
       "      <td>4.39</td>\n",
       "      <td>4.39</td>\n",
       "      <td>4.39</td>\n",
       "      <td>4.39</td>\n",
       "      <td>48.000000</td>\n",
       "      <td>210.720000</td>\n",
       "      <td>4.390000</td>\n",
       "      <td>1</td>\n",
       "      <td>12</td>\n",
       "      <td>2011</td>\n",
       "    </tr>\n",
       "    <tr>\n",
       "      <th>2</th>\n",
       "      <td>4.50</td>\n",
       "      <td>4.57</td>\n",
       "      <td>4.50</td>\n",
       "      <td>4.57</td>\n",
       "      <td>37.862297</td>\n",
       "      <td>171.380337</td>\n",
       "      <td>4.526411</td>\n",
       "      <td>1</td>\n",
       "      <td>12</td>\n",
       "      <td>2011</td>\n",
       "    </tr>\n",
       "    <tr>\n",
       "      <th>3</th>\n",
       "      <td>4.58</td>\n",
       "      <td>4.58</td>\n",
       "      <td>4.58</td>\n",
       "      <td>4.58</td>\n",
       "      <td>9.000000</td>\n",
       "      <td>41.220000</td>\n",
       "      <td>4.580000</td>\n",
       "      <td>1</td>\n",
       "      <td>12</td>\n",
       "      <td>2011</td>\n",
       "    </tr>\n",
       "    <tr>\n",
       "      <th>4</th>\n",
       "      <td>4.58</td>\n",
       "      <td>4.58</td>\n",
       "      <td>4.58</td>\n",
       "      <td>4.58</td>\n",
       "      <td>1.502000</td>\n",
       "      <td>6.879160</td>\n",
       "      <td>4.580000</td>\n",
       "      <td>1</td>\n",
       "      <td>1</td>\n",
       "      <td>2012</td>\n",
       "    </tr>\n",
       "  </tbody>\n",
       "</table>\n",
       "</div>"
      ],
      "text/plain": [
       "   Open  High   Low  Close  Volume_BTC  Volume_Currency  Weighted_Price  day  \\\n",
       "0  4.39  4.39  4.39   4.39    0.455581         2.000000        4.390000    1   \n",
       "1  4.39  4.39  4.39   4.39   48.000000       210.720000        4.390000    1   \n",
       "2  4.50  4.57  4.50   4.57   37.862297       171.380337        4.526411    1   \n",
       "3  4.58  4.58  4.58   4.58    9.000000        41.220000        4.580000    1   \n",
       "4  4.58  4.58  4.58   4.58    1.502000         6.879160        4.580000    1   \n",
       "\n",
       "   month  year  \n",
       "0     12  2011  \n",
       "1     12  2011  \n",
       "2     12  2011  \n",
       "3     12  2011  \n",
       "4      1  2012  "
      ]
     },
     "execution_count": 15,
     "metadata": {},
     "output_type": "execute_result"
    }
   ],
   "source": [
    "data.head()"
   ]
  },
  {
   "cell_type": "code",
   "execution_count": 16,
   "id": "a46e0982-d577-4a93-8a3e-8e19c6af3098",
   "metadata": {},
   "outputs": [],
   "source": [
    "x=data.drop(['Weighted_Price'],axis=1)\n",
    "y=data.Weighted_Price"
   ]
  },
  {
   "cell_type": "markdown",
   "id": "da535607-0741-4d5a-b455-64f1594a3012",
   "metadata": {},
   "source": [
    "# Split data into xtrain, xtest and ytrain and ytest"
   ]
  },
  {
   "cell_type": "code",
   "execution_count": 17,
   "id": "3f76e828-3759-4c9d-bdae-c07eda458adb",
   "metadata": {},
   "outputs": [],
   "source": [
    "xtrain,xtest,ytrain,ytest=train_test_split(x,y,random_state=0,test_size=0.2)"
   ]
  },
  {
   "cell_type": "code",
   "execution_count": 18,
   "id": "00f41444-6e04-4043-8982-c81d790bec88",
   "metadata": {},
   "outputs": [
    {
     "name": "stdout",
     "output_type": "stream",
     "text": [
      "273735\n",
      "68434\n",
      "273735\n",
      "68434\n"
     ]
    }
   ],
   "source": [
    "print(len(xtrain))\n",
    "print(len(xtest))\n",
    "print(len(ytrain))\n",
    "print(len(ytest))"
   ]
  },
  {
   "cell_type": "markdown",
   "id": "c3de54a5-7afa-4771-94a0-141794207cc5",
   "metadata": {},
   "source": [
    "# Modelling"
   ]
  },
  {
   "cell_type": "code",
   "execution_count": 19,
   "id": "c12856d1-0a07-453c-b68d-7ff474d4c19f",
   "metadata": {},
   "outputs": [],
   "source": [
    "model=LinearRegression()"
   ]
  },
  {
   "cell_type": "markdown",
   "id": "46fd3d5f-0a26-4a18-bc58-6514f5830397",
   "metadata": {},
   "source": [
    "# Model fitting"
   ]
  },
  {
   "cell_type": "code",
   "execution_count": 20,
   "id": "a523b4f1-e554-47e7-9cbd-6c9b723382b5",
   "metadata": {},
   "outputs": [
    {
     "data": {
      "text/plain": [
       "LinearRegression()"
      ]
     },
     "execution_count": 20,
     "metadata": {},
     "output_type": "execute_result"
    }
   ],
   "source": [
    "model.fit(xtrain,ytrain)"
   ]
  },
  {
   "cell_type": "code",
   "execution_count": null,
   "id": "9ab14d6d-fa89-4e4b-9103-60835df4c6dc",
   "metadata": {},
   "outputs": [],
   "source": []
  },
  {
   "cell_type": "markdown",
   "id": "5d35cb33-94f3-4b5f-b7d6-f523de9bc9c3",
   "metadata": {},
   "source": [
    "# Check accuracy"
   ]
  },
  {
   "cell_type": "code",
   "execution_count": 21,
   "id": "5584de24-0394-4071-8219-a52e5961f7d1",
   "metadata": {},
   "outputs": [
    {
     "data": {
      "text/plain": [
       "0.9999950054355766"
      ]
     },
     "execution_count": 21,
     "metadata": {},
     "output_type": "execute_result"
    }
   ],
   "source": [
    "model.score(xtest,ytest)"
   ]
  },
  {
   "cell_type": "markdown",
   "id": "8dbcd30c-60b6-42e8-935b-b31713ba198b",
   "metadata": {},
   "source": [
    "# Prediction"
   ]
  },
  {
   "cell_type": "code",
   "execution_count": 22,
   "id": "b8bf9e45-99c5-4727-91ba-7768a98621c8",
   "metadata": {},
   "outputs": [
    {
     "data": {
      "text/plain": [
       "array([6349.58465521])"
      ]
     },
     "execution_count": 22,
     "metadata": {},
     "output_type": "execute_result"
    }
   ],
   "source": [
    "model.predict([[6349.17,6349.32,6349.17,6349.32,0.038261,242.927410,1,11,2018]])"
   ]
  },
  {
   "cell_type": "code",
   "execution_count": 23,
   "id": "907aaa49-d4d5-494c-960a-96a74ade4f1a",
   "metadata": {},
   "outputs": [
    {
     "data": {
      "text/plain": [
       "342166    734.063488\n",
       "342167    731.372707\n",
       "342168    733.369303\n",
       "Name: Weighted_Price, dtype: float64"
      ]
     },
     "execution_count": 23,
     "metadata": {},
     "output_type": "execute_result"
    }
   ],
   "source": [
    "y.tail(3)"
   ]
  },
  {
   "cell_type": "code",
   "execution_count": 24,
   "id": "bc12441c-dd39-4b17-b287-f80e8631502d",
   "metadata": {},
   "outputs": [
    {
     "data": {
      "text/html": [
       "<div>\n",
       "<style scoped>\n",
       "    .dataframe tbody tr th:only-of-type {\n",
       "        vertical-align: middle;\n",
       "    }\n",
       "\n",
       "    .dataframe tbody tr th {\n",
       "        vertical-align: top;\n",
       "    }\n",
       "\n",
       "    .dataframe thead th {\n",
       "        text-align: right;\n",
       "    }\n",
       "</style>\n",
       "<table border=\"1\" class=\"dataframe\">\n",
       "  <thead>\n",
       "    <tr style=\"text-align: right;\">\n",
       "      <th></th>\n",
       "      <th>Open</th>\n",
       "      <th>High</th>\n",
       "      <th>Low</th>\n",
       "      <th>Close</th>\n",
       "      <th>Volume_BTC</th>\n",
       "      <th>Volume_Currency</th>\n",
       "      <th>day</th>\n",
       "      <th>month</th>\n",
       "      <th>year</th>\n",
       "    </tr>\n",
       "  </thead>\n",
       "  <tbody>\n",
       "    <tr>\n",
       "      <th>342166</th>\n",
       "      <td>734.40</td>\n",
       "      <td>734.40</td>\n",
       "      <td>730.51</td>\n",
       "      <td>730.51</td>\n",
       "      <td>0.554786</td>\n",
       "      <td>407.247985</td>\n",
       "      <td>1</td>\n",
       "      <td>12</td>\n",
       "      <td>2013</td>\n",
       "    </tr>\n",
       "    <tr>\n",
       "      <th>342167</th>\n",
       "      <td>730.51</td>\n",
       "      <td>733.63</td>\n",
       "      <td>730.51</td>\n",
       "      <td>731.10</td>\n",
       "      <td>0.620446</td>\n",
       "      <td>453.777190</td>\n",
       "      <td>1</td>\n",
       "      <td>12</td>\n",
       "      <td>2013</td>\n",
       "    </tr>\n",
       "    <tr>\n",
       "      <th>342168</th>\n",
       "      <td>733.00</td>\n",
       "      <td>734.00</td>\n",
       "      <td>733.00</td>\n",
       "      <td>734.00</td>\n",
       "      <td>9.214205</td>\n",
       "      <td>6757.415227</td>\n",
       "      <td>1</td>\n",
       "      <td>12</td>\n",
       "      <td>2013</td>\n",
       "    </tr>\n",
       "  </tbody>\n",
       "</table>\n",
       "</div>"
      ],
      "text/plain": [
       "          Open    High     Low   Close  Volume_BTC  Volume_Currency  day  \\\n",
       "342166  734.40  734.40  730.51  730.51    0.554786       407.247985    1   \n",
       "342167  730.51  733.63  730.51  731.10    0.620446       453.777190    1   \n",
       "342168  733.00  734.00  733.00  734.00    9.214205      6757.415227    1   \n",
       "\n",
       "        month  year  \n",
       "342166     12  2013  \n",
       "342167     12  2013  \n",
       "342168     12  2013  "
      ]
     },
     "execution_count": 24,
     "metadata": {},
     "output_type": "execute_result"
    }
   ],
   "source": [
    "x.tail(3)"
   ]
  },
  {
   "cell_type": "code",
   "execution_count": 25,
   "id": "a872f631-3eaf-4a43-b8b1-73110bb184c0",
   "metadata": {},
   "outputs": [],
   "source": [
    "y_pred=model.predict(xtest)"
   ]
  },
  {
   "cell_type": "code",
   "execution_count": 26,
   "id": "147cca5b-5fe0-456c-9d1e-9fdbd39f3ba8",
   "metadata": {},
   "outputs": [
    {
     "name": "stdout",
     "output_type": "stream",
     "text": [
      "EVS: 0.9999950054356913\n",
      "MAE: 0.17771323373711945\n",
      "MSE: 0.3678413307553557\n",
      "RMSE: 0.6064992421721198\n"
     ]
    }
   ],
   "source": [
    "evs=explained_variance_score(ytest,y_pred)\n",
    "print('EVS:',evs)\n",
    "mae=mean_absolute_error(ytest,y_pred)\n",
    "print('MAE:',mae)\n",
    "mse=mean_squared_error(ytest,y_pred)\n",
    "print('MSE:',mse)\n",
    "rmse=sqrt(mse)\n",
    "print('RMSE:',rmse)"
   ]
  },
  {
   "cell_type": "code",
   "execution_count": 27,
   "id": "7a24cdd4-a373-4aad-995e-0beed6f5a16f",
   "metadata": {},
   "outputs": [
    {
     "data": {
      "text/plain": [
       "0.9999950054355766"
      ]
     },
     "execution_count": 27,
     "metadata": {},
     "output_type": "execute_result"
    }
   ],
   "source": [
    "from sklearn import metrics\n",
    "\n",
    "metrics.r2_score(ytest,y_pred)"
   ]
  },
  {
   "cell_type": "code",
   "execution_count": 28,
   "id": "d8701249-3b55-49d9-9fc8-0ff5defcfac0",
   "metadata": {},
   "outputs": [
    {
     "data": {
      "text/plain": [
       "Index(['Open', 'High', 'Low', 'Close', 'Volume_BTC', 'Volume_Currency', 'day',\n",
       "       'month', 'year'],\n",
       "      dtype='object')"
      ]
     },
     "execution_count": 28,
     "metadata": {},
     "output_type": "execute_result"
    }
   ],
   "source": [
    "x.columns"
   ]
  },
  {
   "cell_type": "markdown",
   "id": "4a832086-6e77-4bf4-9507-732355155a8d",
   "metadata": {},
   "source": [
    "# save it"
   ]
  },
  {
   "cell_type": "code",
   "execution_count": 31,
   "id": "ed939e13-e125-4c6d-861b-e28a4e65a0bb",
   "metadata": {},
   "outputs": [],
   "source": [
    "import pickle\n",
    "file=open('bitcoin.pkl','wb')\n",
    "pickle.dump(model,file)"
   ]
  },
  {
   "cell_type": "code",
   "execution_count": 32,
   "id": "b06b7bf0-65d1-49f3-8987-d6dd9f33f871",
   "metadata": {},
   "outputs": [],
   "source": [
    "models=open('bitcoin.pkl','rb')\n",
    "forest=pickle.load(models)"
   ]
  },
  {
   "cell_type": "code",
   "execution_count": 33,
   "id": "5718c6fe-218e-4220-8ca5-b0c770ae4542",
   "metadata": {},
   "outputs": [],
   "source": [
    "y_prediction=forest.predict(xtest)"
   ]
  },
  {
   "cell_type": "code",
   "execution_count": 34,
   "id": "cd834f58-3576-402a-a366-0148eba11c7a",
   "metadata": {},
   "outputs": [
    {
     "data": {
      "text/plain": [
       "0.9999950054355766"
      ]
     },
     "execution_count": 34,
     "metadata": {},
     "output_type": "execute_result"
    }
   ],
   "source": [
    "metrics.r2_score(ytest,y_prediction)"
   ]
  }
 ],
 "metadata": {
  "kernelspec": {
   "display_name": "Python 3 (ipykernel)",
   "language": "python",
   "name": "python3"
  },
  "language_info": {
   "codemirror_mode": {
    "name": "ipython",
    "version": 3
   },
   "file_extension": ".py",
   "mimetype": "text/x-python",
   "name": "python",
   "nbconvert_exporter": "python",
   "pygments_lexer": "ipython3",
   "version": "3.9.7"
  }
 },
 "nbformat": 4,
 "nbformat_minor": 5
}
